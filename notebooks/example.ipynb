{
 "cells": [
  {
   "cell_type": "markdown",
   "id": "bbeb10d6",
   "metadata": {},
   "source": [
    "I put togehter an example jupyter notebook to illustrate how the code works. Just for the record, I of course did not run everything on a laptop in a notebook like this."
   ]
  },
  {
   "cell_type": "code",
   "execution_count": 2,
   "id": "f48ba382",
   "metadata": {},
   "outputs": [],
   "source": [
    "import pennylane as qml\n",
    "import torch\n",
    "from torch import nn\n",
    "from torch.utils.data import DataLoader\n",
    "from pennylane import numpy as np\n",
    "import matplotlib.pyplot as plt\n",
    "from tqdm import tqdm\n",
    "import pennylane as pl\n",
    "\n",
    "device = 'cpu' # Cuda support for PennyLane is possible though"
   ]
  },
  {
   "cell_type": "code",
   "execution_count": 3,
   "id": "a2f92827",
   "metadata": {},
   "outputs": [],
   "source": [
    "import sys\n",
    "sys.path.insert(0, \"../\")\n",
    "import utils.utils as utils\n",
    "import models.fourier_models as fm\n",
    "import models.quantum_models as qm"
   ]
  },
  {
   "cell_type": "markdown",
   "id": "ce2a8972",
   "metadata": {},
   "source": [
    "Pick a data set out of the next three cells."
   ]
  },
  {
   "cell_type": "code",
   "execution_count": 4,
   "id": "a9afb67e",
   "metadata": {},
   "outputs": [],
   "source": [
    "# this cell details how the synthetic dataset is generated\n",
    "\n",
    "from sklearn.datasets import make_regression\n",
    "from sklearn.model_selection import train_test_split\n",
    "\n",
    "n_samples = 500\n",
    "n_features = 3\n",
    "n_informative = 3\n",
    "n_targets = 1\n",
    "noise = 1.0\n",
    "random_state = 42\n",
    "X, y = make_regression(n_samples=n_samples, n_features=n_features, n_informative=n_informative, n_targets=n_targets, noise=noise, random_state=random_state)\n",
    "X, y = torch.from_numpy(X), torch.from_numpy(y)"
   ]
  },
  {
   "cell_type": "code",
   "execution_count": null,
   "id": "b5c49189",
   "metadata": {},
   "outputs": [],
   "source": [
    "# generate a random PQC regression problem\n",
    "n_samples = 3500\n",
    "n_dim = 4\n",
    "n_layers = 2\n",
    "n_trainable_block_layers = 2\n",
    "target_model = qm.QuantumRegressionModel(n_dim, n_layers=n_layers, n_trainable_block_layers=n_trainable_block_layers)\n",
    "rng = np.random.default_rng()\n",
    "X = torch.from_numpy(rng.random((n_samples, n_dim)))\n",
    "\n",
    "with torch.no_grad():\n",
    "    y = target_model(X).flatten()"
   ]
  },
  {
   "cell_type": "code",
   "execution_count": null,
   "id": "c874631d",
   "metadata": {},
   "outputs": [],
   "source": [
    "# load california housing dataset\n",
    "data = fetch_california_housing()\n",
    "X = torch.from_numpy(data.data)\n",
    "y = torch.from_numpy(data.target)"
   ]
  },
  {
   "cell_type": "code",
   "execution_count": null,
   "id": "308333f0",
   "metadata": {},
   "outputs": [],
   "source": [
    "# Scale data to interval [-pi/2, pi/2]\n",
    "X_scaled = utils.data_scaler(X, interval=(-torch.pi/2, torch.pi/2))\n",
    "\n",
    "# Split the data set into training and testing\n",
    "X_train, X_test, y_train, y_test = train_test_split(\n",
    "    X_scaled, y, test_size=0.2, random_state=2)\n",
    "\n",
    "# torch dataloaders\n",
    "train_data_list = []\n",
    "for i in range(len(X_train)):\n",
    "    data_point = (X_train[i], y_train[i])\n",
    "    train_data_list.append(data_point)\n",
    "\n",
    "test_data_list = []\n",
    "for i in range(len(X_test)):\n",
    "    data_point = (X_test[i], y_test[i])\n",
    "    test_data_list.append(data_point)\n",
    "    \n",
    "train_dataloader = DataLoader(train_data_list, batch_size=500, shuffle=True)\n",
    "test_dataloader = DataLoader(test_data_list, batch_size=500, shuffle=True)"
   ]
  },
  {
   "cell_type": "code",
   "execution_count": 5,
   "id": "408c9aff",
   "metadata": {},
   "outputs": [],
   "source": [
    "def train(dataloader, model, loss_fn, optimizer):\n",
    "    size = len(dataloader.dataset)\n",
    "    model.train()\n",
    "    for batch, (X, y) in enumerate(dataloader):\n",
    "        X, y = X.to(device), y.to(device)\n",
    "        def closure():\n",
    "            optimizer.zero_grad()\n",
    "            output = model(X)\n",
    "            loss = loss_fn(output.flatten(), y)\n",
    "            loss.backward()\n",
    "            return loss\n",
    "        \n",
    "        optimizer.step(closure)\n",
    "\n",
    "        if batch % 100 == 0:\n",
    "            loss = loss_fn(model(X).flatten(), y)\n",
    "            loss, current = loss.item(), batch * len(X)\n",
    "\n",
    "        return loss\n",
    "\n",
    "def test(dataloader, model, loss_fn):\n",
    "    size = len(dataloader.dataset)\n",
    "    num_batches = len(dataloader)\n",
    "    model.eval()\n",
    "    test_loss, correct = 0, 0\n",
    "    with torch.no_grad():\n",
    "        for X, y in dataloader:\n",
    "            X, y = X.to(device), y.to(device)\n",
    "            pred = model(X)\n",
    "            test_loss += loss_fn(pred.flatten(), y).item()\n",
    "            correct += (pred.argmax(1) == y).type(torch.float).sum().item()\n",
    "    test_loss /= num_batches\n",
    "    correct /= size\n",
    "    print(f\"Test Error: \\n Accuracy: {(100*correct):>0.1f}%, Avg loss: {test_loss:>8f} \\n\")\n",
    "    return test_loss"
   ]
  },
  {
   "cell_type": "markdown",
   "id": "bd686866",
   "metadata": {},
   "source": [
    "# The Quantum Model"
   ]
  },
  {
   "cell_type": "code",
   "execution_count": 41,
   "id": "1e363853",
   "metadata": {},
   "outputs": [],
   "source": [
    "n_qubits = n_features\n",
    "model = qm.QuantumRegressionModel(n_qubits, n_layers=2, n_trainable_block_layers=1)\n",
    "model.to(device)\n",
    "loss_fn = nn.MSELoss(reduction='mean') \n",
    "optimizer = torch.optim.LBFGS(model.parameters(), lr=0.5, line_search_fn=\"strong_wolfe\")"
   ]
  },
  {
   "cell_type": "code",
   "execution_count": 42,
   "id": "b76b7814",
   "metadata": {},
   "outputs": [
    {
     "name": "stdout",
     "output_type": "stream",
     "text": [
      "Test Error: \n",
      " Accuracy: 0.0%, Avg loss: 10445.748672 \n",
      "\n",
      "Test Error: \n",
      " Accuracy: 0.0%, Avg loss: 9274.028752 \n",
      "\n"
     ]
    },
    {
     "name": "stderr",
     "output_type": "stream",
     "text": [
      "\r",
      "  0%|                                                    | 0/50 [00:00<?, ?it/s]"
     ]
    },
    {
     "name": "stdout",
     "output_type": "stream",
     "text": [
      "Epoch 1\n",
      "-------------------------------\n",
      "Test Error: \n",
      " Accuracy: 0.0%, Avg loss: 6484.783754 \n",
      "\n"
     ]
    },
    {
     "name": "stderr",
     "output_type": "stream",
     "text": [
      "\r",
      "  2%|▊                                        | 1/50 [03:01<2:27:58, 181.20s/it]"
     ]
    },
    {
     "name": "stdout",
     "output_type": "stream",
     "text": [
      "Test Error: \n",
      " Accuracy: 0.0%, Avg loss: 5465.040479 \n",
      "\n",
      "Done!\n",
      "Epoch 2\n",
      "-------------------------------\n",
      "Test Error: \n",
      " Accuracy: 0.0%, Avg loss: 1404.798334 \n",
      "\n"
     ]
    },
    {
     "name": "stderr",
     "output_type": "stream",
     "text": [
      "\r",
      "  4%|█▋                                       | 2/50 [05:46<2:17:31, 171.90s/it]"
     ]
    },
    {
     "name": "stdout",
     "output_type": "stream",
     "text": [
      "Test Error: \n",
      " Accuracy: 0.0%, Avg loss: 818.848552 \n",
      "\n",
      "Done!\n",
      "Epoch 3\n",
      "-------------------------------\n",
      "Test Error: \n",
      " Accuracy: 0.0%, Avg loss: 392.590092 \n",
      "\n"
     ]
    },
    {
     "name": "stderr",
     "output_type": "stream",
     "text": [
      "\r",
      "  6%|██▍                                      | 3/50 [08:18<2:07:34, 162.86s/it]"
     ]
    },
    {
     "name": "stdout",
     "output_type": "stream",
     "text": [
      "Test Error: \n",
      " Accuracy: 0.0%, Avg loss: 201.681017 \n",
      "\n",
      "Done!\n",
      "Epoch 4\n",
      "-------------------------------\n",
      "Test Error: \n",
      " Accuracy: 0.0%, Avg loss: 280.514933 \n",
      "\n"
     ]
    },
    {
     "name": "stderr",
     "output_type": "stream",
     "text": [
      "\r",
      "  8%|███▎                                     | 4/50 [11:00<2:04:27, 162.34s/it]"
     ]
    },
    {
     "name": "stdout",
     "output_type": "stream",
     "text": [
      "Test Error: \n",
      " Accuracy: 0.0%, Avg loss: 178.793668 \n",
      "\n",
      "Done!\n",
      "Epoch 5\n",
      "-------------------------------\n",
      "Test Error: \n",
      " Accuracy: 0.0%, Avg loss: 209.354704 \n",
      "\n"
     ]
    },
    {
     "name": "stderr",
     "output_type": "stream",
     "text": [
      "\r",
      " 10%|████                                     | 5/50 [13:57<2:05:44, 167.66s/it]"
     ]
    },
    {
     "name": "stdout",
     "output_type": "stream",
     "text": [
      "Test Error: \n",
      " Accuracy: 0.0%, Avg loss: 81.927583 \n",
      "\n",
      "Done!\n",
      "Epoch 6\n",
      "-------------------------------\n",
      "Test Error: \n",
      " Accuracy: 0.0%, Avg loss: 139.421382 \n",
      "\n"
     ]
    },
    {
     "name": "stderr",
     "output_type": "stream",
     "text": [
      "\r",
      " 12%|████▉                                    | 6/50 [16:34<2:00:23, 164.17s/it]"
     ]
    },
    {
     "name": "stdout",
     "output_type": "stream",
     "text": [
      "Test Error: \n",
      " Accuracy: 0.0%, Avg loss: 69.263699 \n",
      "\n",
      "Done!\n",
      "Epoch 7\n",
      "-------------------------------\n",
      "Test Error: \n",
      " Accuracy: 0.0%, Avg loss: 78.469631 \n",
      "\n"
     ]
    },
    {
     "name": "stderr",
     "output_type": "stream",
     "text": [
      "\r",
      " 14%|█████▋                                   | 7/50 [19:39<2:02:23, 170.79s/it]"
     ]
    },
    {
     "name": "stdout",
     "output_type": "stream",
     "text": [
      "Test Error: \n",
      " Accuracy: 0.0%, Avg loss: 82.509632 \n",
      "\n",
      "Done!\n",
      "Epoch 8\n",
      "-------------------------------\n",
      "Test Error: \n",
      " Accuracy: 0.0%, Avg loss: 52.523965 \n",
      "\n"
     ]
    },
    {
     "name": "stderr",
     "output_type": "stream",
     "text": [
      "\r",
      " 16%|██████▌                                  | 8/50 [22:53<2:04:46, 178.24s/it]"
     ]
    },
    {
     "name": "stdout",
     "output_type": "stream",
     "text": [
      "Test Error: \n",
      " Accuracy: 0.0%, Avg loss: 50.112167 \n",
      "\n",
      "Done!\n",
      "Epoch 9\n",
      "-------------------------------\n",
      "Test Error: \n",
      " Accuracy: 0.0%, Avg loss: 45.026523 \n",
      "\n"
     ]
    },
    {
     "name": "stderr",
     "output_type": "stream",
     "text": [
      "\r",
      " 18%|███████▍                                 | 9/50 [25:30<1:57:17, 171.65s/it]"
     ]
    },
    {
     "name": "stdout",
     "output_type": "stream",
     "text": [
      "Test Error: \n",
      " Accuracy: 0.0%, Avg loss: 41.011686 \n",
      "\n",
      "Done!\n",
      "Epoch 10\n",
      "-------------------------------\n",
      "Test Error: \n",
      " Accuracy: 0.0%, Avg loss: 39.926677 \n",
      "\n"
     ]
    },
    {
     "name": "stderr",
     "output_type": "stream",
     "text": [
      "\r",
      " 20%|████████                                | 10/50 [28:21<1:54:21, 171.54s/it]"
     ]
    },
    {
     "name": "stdout",
     "output_type": "stream",
     "text": [
      "Test Error: \n",
      " Accuracy: 0.0%, Avg loss: 42.740865 \n",
      "\n",
      "Done!\n",
      "Epoch 11\n",
      "-------------------------------\n",
      "Test Error: \n",
      " Accuracy: 0.0%, Avg loss: 35.606628 \n",
      "\n"
     ]
    },
    {
     "name": "stderr",
     "output_type": "stream",
     "text": [
      "\r",
      " 22%|████████▊                               | 11/50 [30:56<1:48:09, 166.41s/it]"
     ]
    },
    {
     "name": "stdout",
     "output_type": "stream",
     "text": [
      "Test Error: \n",
      " Accuracy: 0.0%, Avg loss: 30.609509 \n",
      "\n",
      "Done!\n",
      "Epoch 12\n",
      "-------------------------------\n",
      "Test Error: \n",
      " Accuracy: 0.0%, Avg loss: 30.697256 \n",
      "\n"
     ]
    },
    {
     "name": "stderr",
     "output_type": "stream",
     "text": [
      "\r",
      " 24%|█████████▌                              | 12/50 [33:52<1:47:12, 169.27s/it]"
     ]
    },
    {
     "name": "stdout",
     "output_type": "stream",
     "text": [
      "Test Error: \n",
      " Accuracy: 0.0%, Avg loss: 32.724976 \n",
      "\n",
      "Done!\n",
      "Epoch 13\n",
      "-------------------------------\n",
      "Test Error: \n",
      " Accuracy: 0.0%, Avg loss: 28.613701 \n",
      "\n"
     ]
    },
    {
     "name": "stderr",
     "output_type": "stream",
     "text": [
      "\r",
      " 26%|██████████▍                             | 13/50 [36:28<1:41:52, 165.21s/it]"
     ]
    },
    {
     "name": "stdout",
     "output_type": "stream",
     "text": [
      "Test Error: \n",
      " Accuracy: 0.0%, Avg loss: 35.095889 \n",
      "\n",
      "Done!\n",
      "Epoch 14\n",
      "-------------------------------\n"
     ]
    },
    {
     "name": "stderr",
     "output_type": "stream",
     "text": [
      " 26%|██████████▍                             | 13/50 [37:02<1:45:26, 170.98s/it]\n"
     ]
    },
    {
     "ename": "KeyboardInterrupt",
     "evalue": "",
     "output_type": "error",
     "traceback": [
      "\u001b[0;31m---------------------------------------------------------------------------\u001b[0m",
      "\u001b[0;31mKeyboardInterrupt\u001b[0m                         Traceback (most recent call last)",
      "Cell \u001b[0;32mIn[42], line 10\u001b[0m\n\u001b[1;32m      8\u001b[0m \u001b[38;5;28;01mfor\u001b[39;00m t \u001b[38;5;129;01min\u001b[39;00m tqdm(\u001b[38;5;28mrange\u001b[39m(epochs)):\n\u001b[1;32m      9\u001b[0m     \u001b[38;5;28mprint\u001b[39m(\u001b[38;5;124mf\u001b[39m\u001b[38;5;124m\"\u001b[39m\u001b[38;5;124mEpoch \u001b[39m\u001b[38;5;132;01m{\u001b[39;00mt\u001b[38;5;241m+\u001b[39m\u001b[38;5;241m1\u001b[39m\u001b[38;5;132;01m}\u001b[39;00m\u001b[38;5;130;01m\\n\u001b[39;00m\u001b[38;5;124m-------------------------------\u001b[39m\u001b[38;5;124m\"\u001b[39m)\n\u001b[0;32m---> 10\u001b[0m     \u001b[43mtrain\u001b[49m\u001b[43m(\u001b[49m\u001b[43mtrain_dataloader\u001b[49m\u001b[43m,\u001b[49m\u001b[43m \u001b[49m\u001b[43mmodel\u001b[49m\u001b[43m,\u001b[49m\u001b[43m \u001b[49m\u001b[43mloss_fn\u001b[49m\u001b[43m,\u001b[49m\u001b[43m \u001b[49m\u001b[43moptimizer\u001b[49m\u001b[43m)\u001b[49m\n\u001b[1;32m     11\u001b[0m     NN_loss\u001b[38;5;241m.\u001b[39mappend(test(train_dataloader, model, loss_fn))\n\u001b[1;32m     12\u001b[0m     NN_test_loss\u001b[38;5;241m.\u001b[39mappend(test(test_dataloader, model, loss_fn))    \n",
      "Cell \u001b[0;32mIn[40], line 13\u001b[0m, in \u001b[0;36mtrain\u001b[0;34m(dataloader, model, loss_fn, optimizer)\u001b[0m\n\u001b[1;32m     10\u001b[0m     loss\u001b[38;5;241m.\u001b[39mbackward()\n\u001b[1;32m     11\u001b[0m     \u001b[38;5;28;01mreturn\u001b[39;00m loss\n\u001b[0;32m---> 13\u001b[0m \u001b[43moptimizer\u001b[49m\u001b[38;5;241;43m.\u001b[39;49m\u001b[43mstep\u001b[49m\u001b[43m(\u001b[49m\u001b[43mclosure\u001b[49m\u001b[43m)\u001b[49m\n\u001b[1;32m     15\u001b[0m \u001b[38;5;28;01mif\u001b[39;00m batch \u001b[38;5;241m%\u001b[39m \u001b[38;5;241m100\u001b[39m \u001b[38;5;241m==\u001b[39m \u001b[38;5;241m0\u001b[39m:\n\u001b[1;32m     16\u001b[0m     loss \u001b[38;5;241m=\u001b[39m loss_fn(model(X)\u001b[38;5;241m.\u001b[39mflatten(), y)\n",
      "File \u001b[0;32m~/anaconda3/envs/fourier/lib/python3.8/site-packages/torch/optim/optimizer.py:88\u001b[0m, in \u001b[0;36mOptimizer._hook_for_profile.<locals>.profile_hook_step.<locals>.wrapper\u001b[0;34m(*args, **kwargs)\u001b[0m\n\u001b[1;32m     86\u001b[0m profile_name \u001b[38;5;241m=\u001b[39m \u001b[38;5;124m\"\u001b[39m\u001b[38;5;124mOptimizer.step#\u001b[39m\u001b[38;5;132;01m{}\u001b[39;00m\u001b[38;5;124m.step\u001b[39m\u001b[38;5;124m\"\u001b[39m\u001b[38;5;241m.\u001b[39mformat(obj\u001b[38;5;241m.\u001b[39m\u001b[38;5;18m__class__\u001b[39m\u001b[38;5;241m.\u001b[39m\u001b[38;5;18m__name__\u001b[39m)\n\u001b[1;32m     87\u001b[0m \u001b[38;5;28;01mwith\u001b[39;00m torch\u001b[38;5;241m.\u001b[39mautograd\u001b[38;5;241m.\u001b[39mprofiler\u001b[38;5;241m.\u001b[39mrecord_function(profile_name):\n\u001b[0;32m---> 88\u001b[0m     \u001b[38;5;28;01mreturn\u001b[39;00m \u001b[43mfunc\u001b[49m\u001b[43m(\u001b[49m\u001b[38;5;241;43m*\u001b[39;49m\u001b[43margs\u001b[49m\u001b[43m,\u001b[49m\u001b[43m \u001b[49m\u001b[38;5;241;43m*\u001b[39;49m\u001b[38;5;241;43m*\u001b[39;49m\u001b[43mkwargs\u001b[49m\u001b[43m)\u001b[49m\n",
      "File \u001b[0;32m~/anaconda3/envs/fourier/lib/python3.8/site-packages/torch/autograd/grad_mode.py:28\u001b[0m, in \u001b[0;36m_DecoratorContextManager.__call__.<locals>.decorate_context\u001b[0;34m(*args, **kwargs)\u001b[0m\n\u001b[1;32m     25\u001b[0m \u001b[38;5;129m@functools\u001b[39m\u001b[38;5;241m.\u001b[39mwraps(func)\n\u001b[1;32m     26\u001b[0m \u001b[38;5;28;01mdef\u001b[39;00m \u001b[38;5;21mdecorate_context\u001b[39m(\u001b[38;5;241m*\u001b[39margs, \u001b[38;5;241m*\u001b[39m\u001b[38;5;241m*\u001b[39mkwargs):\n\u001b[1;32m     27\u001b[0m     \u001b[38;5;28;01mwith\u001b[39;00m \u001b[38;5;28mself\u001b[39m\u001b[38;5;241m.\u001b[39m\u001b[38;5;18m__class__\u001b[39m():\n\u001b[0;32m---> 28\u001b[0m         \u001b[38;5;28;01mreturn\u001b[39;00m \u001b[43mfunc\u001b[49m\u001b[43m(\u001b[49m\u001b[38;5;241;43m*\u001b[39;49m\u001b[43margs\u001b[49m\u001b[43m,\u001b[49m\u001b[43m \u001b[49m\u001b[38;5;241;43m*\u001b[39;49m\u001b[38;5;241;43m*\u001b[39;49m\u001b[43mkwargs\u001b[49m\u001b[43m)\u001b[49m\n",
      "File \u001b[0;32m~/anaconda3/envs/fourier/lib/python3.8/site-packages/torch/optim/lbfgs.py:425\u001b[0m, in \u001b[0;36mLBFGS.step\u001b[0;34m(self, closure)\u001b[0m\n\u001b[1;32m    422\u001b[0m     \u001b[38;5;28;01mdef\u001b[39;00m \u001b[38;5;21mobj_func\u001b[39m(x, t, d):\n\u001b[1;32m    423\u001b[0m         \u001b[38;5;28;01mreturn\u001b[39;00m \u001b[38;5;28mself\u001b[39m\u001b[38;5;241m.\u001b[39m_directional_evaluate(closure, x, t, d)\n\u001b[0;32m--> 425\u001b[0m     loss, flat_grad, t, ls_func_evals \u001b[38;5;241m=\u001b[39m \u001b[43m_strong_wolfe\u001b[49m\u001b[43m(\u001b[49m\n\u001b[1;32m    426\u001b[0m \u001b[43m        \u001b[49m\u001b[43mobj_func\u001b[49m\u001b[43m,\u001b[49m\u001b[43m \u001b[49m\u001b[43mx_init\u001b[49m\u001b[43m,\u001b[49m\u001b[43m \u001b[49m\u001b[43mt\u001b[49m\u001b[43m,\u001b[49m\u001b[43m \u001b[49m\u001b[43md\u001b[49m\u001b[43m,\u001b[49m\u001b[43m \u001b[49m\u001b[43mloss\u001b[49m\u001b[43m,\u001b[49m\u001b[43m \u001b[49m\u001b[43mflat_grad\u001b[49m\u001b[43m,\u001b[49m\u001b[43m \u001b[49m\u001b[43mgtd\u001b[49m\u001b[43m)\u001b[49m\n\u001b[1;32m    427\u001b[0m \u001b[38;5;28mself\u001b[39m\u001b[38;5;241m.\u001b[39m_add_grad(t, d)\n\u001b[1;32m    428\u001b[0m opt_cond \u001b[38;5;241m=\u001b[39m flat_grad\u001b[38;5;241m.\u001b[39mabs()\u001b[38;5;241m.\u001b[39mmax() \u001b[38;5;241m<\u001b[39m\u001b[38;5;241m=\u001b[39m tolerance_grad\n",
      "File \u001b[0;32m~/anaconda3/envs/fourier/lib/python3.8/site-packages/torch/optim/lbfgs.py:49\u001b[0m, in \u001b[0;36m_strong_wolfe\u001b[0;34m(obj_func, x, t, d, f, g, gtd, c1, c2, tolerance_change, max_ls)\u001b[0m\n\u001b[1;32m     47\u001b[0m g \u001b[38;5;241m=\u001b[39m g\u001b[38;5;241m.\u001b[39mclone(memory_format\u001b[38;5;241m=\u001b[39mtorch\u001b[38;5;241m.\u001b[39mcontiguous_format)\n\u001b[1;32m     48\u001b[0m \u001b[38;5;66;03m# evaluate objective and gradient using initial step\u001b[39;00m\n\u001b[0;32m---> 49\u001b[0m f_new, g_new \u001b[38;5;241m=\u001b[39m \u001b[43mobj_func\u001b[49m\u001b[43m(\u001b[49m\u001b[43mx\u001b[49m\u001b[43m,\u001b[49m\u001b[43m \u001b[49m\u001b[43mt\u001b[49m\u001b[43m,\u001b[49m\u001b[43m \u001b[49m\u001b[43md\u001b[49m\u001b[43m)\u001b[49m\n\u001b[1;32m     50\u001b[0m ls_func_evals \u001b[38;5;241m=\u001b[39m \u001b[38;5;241m1\u001b[39m\n\u001b[1;32m     51\u001b[0m gtd_new \u001b[38;5;241m=\u001b[39m g_new\u001b[38;5;241m.\u001b[39mdot(d)\n",
      "File \u001b[0;32m~/anaconda3/envs/fourier/lib/python3.8/site-packages/torch/optim/lbfgs.py:423\u001b[0m, in \u001b[0;36mLBFGS.step.<locals>.obj_func\u001b[0;34m(x, t, d)\u001b[0m\n\u001b[1;32m    422\u001b[0m \u001b[38;5;28;01mdef\u001b[39;00m \u001b[38;5;21mobj_func\u001b[39m(x, t, d):\n\u001b[0;32m--> 423\u001b[0m     \u001b[38;5;28;01mreturn\u001b[39;00m \u001b[38;5;28;43mself\u001b[39;49m\u001b[38;5;241;43m.\u001b[39;49m\u001b[43m_directional_evaluate\u001b[49m\u001b[43m(\u001b[49m\u001b[43mclosure\u001b[49m\u001b[43m,\u001b[49m\u001b[43m \u001b[49m\u001b[43mx\u001b[49m\u001b[43m,\u001b[49m\u001b[43m \u001b[49m\u001b[43mt\u001b[49m\u001b[43m,\u001b[49m\u001b[43m \u001b[49m\u001b[43md\u001b[49m\u001b[43m)\u001b[49m\n",
      "File \u001b[0;32m~/anaconda3/envs/fourier/lib/python3.8/site-packages/torch/optim/lbfgs.py:277\u001b[0m, in \u001b[0;36mLBFGS._directional_evaluate\u001b[0;34m(self, closure, x, t, d)\u001b[0m\n\u001b[1;32m    275\u001b[0m \u001b[38;5;28;01mdef\u001b[39;00m \u001b[38;5;21m_directional_evaluate\u001b[39m(\u001b[38;5;28mself\u001b[39m, closure, x, t, d):\n\u001b[1;32m    276\u001b[0m     \u001b[38;5;28mself\u001b[39m\u001b[38;5;241m.\u001b[39m_add_grad(t, d)\n\u001b[0;32m--> 277\u001b[0m     loss \u001b[38;5;241m=\u001b[39m \u001b[38;5;28mfloat\u001b[39m(\u001b[43mclosure\u001b[49m\u001b[43m(\u001b[49m\u001b[43m)\u001b[49m)\n\u001b[1;32m    278\u001b[0m     flat_grad \u001b[38;5;241m=\u001b[39m \u001b[38;5;28mself\u001b[39m\u001b[38;5;241m.\u001b[39m_gather_flat_grad()\n\u001b[1;32m    279\u001b[0m     \u001b[38;5;28mself\u001b[39m\u001b[38;5;241m.\u001b[39m_set_param(x)\n",
      "File \u001b[0;32m~/anaconda3/envs/fourier/lib/python3.8/site-packages/torch/autograd/grad_mode.py:28\u001b[0m, in \u001b[0;36m_DecoratorContextManager.__call__.<locals>.decorate_context\u001b[0;34m(*args, **kwargs)\u001b[0m\n\u001b[1;32m     25\u001b[0m \u001b[38;5;129m@functools\u001b[39m\u001b[38;5;241m.\u001b[39mwraps(func)\n\u001b[1;32m     26\u001b[0m \u001b[38;5;28;01mdef\u001b[39;00m \u001b[38;5;21mdecorate_context\u001b[39m(\u001b[38;5;241m*\u001b[39margs, \u001b[38;5;241m*\u001b[39m\u001b[38;5;241m*\u001b[39mkwargs):\n\u001b[1;32m     27\u001b[0m     \u001b[38;5;28;01mwith\u001b[39;00m \u001b[38;5;28mself\u001b[39m\u001b[38;5;241m.\u001b[39m\u001b[38;5;18m__class__\u001b[39m():\n\u001b[0;32m---> 28\u001b[0m         \u001b[38;5;28;01mreturn\u001b[39;00m \u001b[43mfunc\u001b[49m\u001b[43m(\u001b[49m\u001b[38;5;241;43m*\u001b[39;49m\u001b[43margs\u001b[49m\u001b[43m,\u001b[49m\u001b[43m \u001b[49m\u001b[38;5;241;43m*\u001b[39;49m\u001b[38;5;241;43m*\u001b[39;49m\u001b[43mkwargs\u001b[49m\u001b[43m)\u001b[49m\n",
      "Cell \u001b[0;32mIn[40], line 10\u001b[0m, in \u001b[0;36mtrain.<locals>.closure\u001b[0;34m()\u001b[0m\n\u001b[1;32m      8\u001b[0m output \u001b[38;5;241m=\u001b[39m model(X)\n\u001b[1;32m      9\u001b[0m loss \u001b[38;5;241m=\u001b[39m loss_fn(output\u001b[38;5;241m.\u001b[39mflatten(), y)\n\u001b[0;32m---> 10\u001b[0m \u001b[43mloss\u001b[49m\u001b[38;5;241;43m.\u001b[39;49m\u001b[43mbackward\u001b[49m\u001b[43m(\u001b[49m\u001b[43m)\u001b[49m\n\u001b[1;32m     11\u001b[0m \u001b[38;5;28;01mreturn\u001b[39;00m loss\n",
      "File \u001b[0;32m~/anaconda3/envs/fourier/lib/python3.8/site-packages/torch/_tensor.py:307\u001b[0m, in \u001b[0;36mTensor.backward\u001b[0;34m(self, gradient, retain_graph, create_graph, inputs)\u001b[0m\n\u001b[1;32m    298\u001b[0m \u001b[38;5;28;01mif\u001b[39;00m has_torch_function_unary(\u001b[38;5;28mself\u001b[39m):\n\u001b[1;32m    299\u001b[0m     \u001b[38;5;28;01mreturn\u001b[39;00m handle_torch_function(\n\u001b[1;32m    300\u001b[0m         Tensor\u001b[38;5;241m.\u001b[39mbackward,\n\u001b[1;32m    301\u001b[0m         (\u001b[38;5;28mself\u001b[39m,),\n\u001b[0;32m   (...)\u001b[0m\n\u001b[1;32m    305\u001b[0m         create_graph\u001b[38;5;241m=\u001b[39mcreate_graph,\n\u001b[1;32m    306\u001b[0m         inputs\u001b[38;5;241m=\u001b[39minputs)\n\u001b[0;32m--> 307\u001b[0m \u001b[43mtorch\u001b[49m\u001b[38;5;241;43m.\u001b[39;49m\u001b[43mautograd\u001b[49m\u001b[38;5;241;43m.\u001b[39;49m\u001b[43mbackward\u001b[49m\u001b[43m(\u001b[49m\u001b[38;5;28;43mself\u001b[39;49m\u001b[43m,\u001b[49m\u001b[43m \u001b[49m\u001b[43mgradient\u001b[49m\u001b[43m,\u001b[49m\u001b[43m \u001b[49m\u001b[43mretain_graph\u001b[49m\u001b[43m,\u001b[49m\u001b[43m \u001b[49m\u001b[43mcreate_graph\u001b[49m\u001b[43m,\u001b[49m\u001b[43m \u001b[49m\u001b[43minputs\u001b[49m\u001b[38;5;241;43m=\u001b[39;49m\u001b[43minputs\u001b[49m\u001b[43m)\u001b[49m\n",
      "File \u001b[0;32m~/anaconda3/envs/fourier/lib/python3.8/site-packages/torch/autograd/__init__.py:154\u001b[0m, in \u001b[0;36mbackward\u001b[0;34m(tensors, grad_tensors, retain_graph, create_graph, grad_variables, inputs)\u001b[0m\n\u001b[1;32m    151\u001b[0m \u001b[38;5;28;01mif\u001b[39;00m retain_graph \u001b[38;5;129;01mis\u001b[39;00m \u001b[38;5;28;01mNone\u001b[39;00m:\n\u001b[1;32m    152\u001b[0m     retain_graph \u001b[38;5;241m=\u001b[39m create_graph\n\u001b[0;32m--> 154\u001b[0m \u001b[43mVariable\u001b[49m\u001b[38;5;241;43m.\u001b[39;49m\u001b[43m_execution_engine\u001b[49m\u001b[38;5;241;43m.\u001b[39;49m\u001b[43mrun_backward\u001b[49m\u001b[43m(\u001b[49m\n\u001b[1;32m    155\u001b[0m \u001b[43m    \u001b[49m\u001b[43mtensors\u001b[49m\u001b[43m,\u001b[49m\u001b[43m \u001b[49m\u001b[43mgrad_tensors_\u001b[49m\u001b[43m,\u001b[49m\u001b[43m \u001b[49m\u001b[43mretain_graph\u001b[49m\u001b[43m,\u001b[49m\u001b[43m \u001b[49m\u001b[43mcreate_graph\u001b[49m\u001b[43m,\u001b[49m\u001b[43m \u001b[49m\u001b[43minputs\u001b[49m\u001b[43m,\u001b[49m\n\u001b[1;32m    156\u001b[0m \u001b[43m    \u001b[49m\u001b[43mallow_unreachable\u001b[49m\u001b[38;5;241;43m=\u001b[39;49m\u001b[38;5;28;43;01mTrue\u001b[39;49;00m\u001b[43m,\u001b[49m\u001b[43m \u001b[49m\u001b[43maccumulate_grad\u001b[49m\u001b[38;5;241;43m=\u001b[39;49m\u001b[38;5;28;43;01mTrue\u001b[39;49;00m\u001b[43m)\u001b[49m\n",
      "\u001b[0;31mKeyboardInterrupt\u001b[0m: "
     ]
    }
   ],
   "source": [
    "# Training\n",
    "NN_loss = []\n",
    "NN_test_loss = []\n",
    "\n",
    "NN_loss.append(test(train_dataloader, model, loss_fn))\n",
    "NN_test_loss.append(test(test_dataloader, model, loss_fn)) \n",
    "epochs = 50\n",
    "for t in tqdm(range(epochs)):\n",
    "    print(f\"Epoch {t+1}\\n-------------------------------\")\n",
    "    train(train_dataloader, model, loss_fn, optimizer)\n",
    "    NN_loss.append(test(train_dataloader, model, loss_fn))\n",
    "    NN_test_loss.append(test(test_dataloader, model, loss_fn))    \n",
    "    print(\"Done!\")"
   ]
  },
  {
   "cell_type": "code",
   "execution_count": null,
   "id": "3668348b",
   "metadata": {},
   "outputs": [],
   "source": [
    "x = np.arange(0, len(NN_loss), 1)\n",
    "plt.plot(x, NN_loss, label=\"training loss\")\n",
    "plt.plot(x, NN_test_loss, label=\"test loss\")\n",
    "plt.xlabel(\"Epochs\")\n",
    "plt.ylabel(\"MSE loss\")\n",
    "plt.legend()"
   ]
  },
  {
   "cell_type": "markdown",
   "id": "b0873ee1",
   "metadata": {},
   "source": [
    "# The Classical Surrogate"
   ]
  },
  {
   "cell_type": "code",
   "execution_count": 6,
   "id": "4a34a8bc",
   "metadata": {},
   "outputs": [],
   "source": [
    "# generate frequencies\n",
    "max_freq = 2\n",
    "dim = X_scaled[0].shape[0]\n",
    "\n",
    "W = utils.freq_generator(max_freq, dim, mode=\"half\")"
   ]
  },
  {
   "cell_type": "code",
   "execution_count": 7,
   "id": "5c205fe6",
   "metadata": {},
   "outputs": [
    {
     "name": "stderr",
     "output_type": "stream",
     "text": [
      "  6%|██▋                                         | 3/50 [00:00<00:02, 23.39it/s]"
     ]
    },
    {
     "name": "stdout",
     "output_type": "stream",
     "text": [
      "Epoch 1\n",
      "-------------------------------\n",
      "Test Error: \n",
      " Accuracy: 0.0%, Avg loss: 45.163286 \n",
      "\n",
      "Test Error: \n",
      " Accuracy: 0.0%, Avg loss: 83.601879 \n",
      "\n",
      "Done!\n",
      "Epoch 2\n",
      "-------------------------------\n",
      "Test Error: \n",
      " Accuracy: 0.0%, Avg loss: 14.404836 \n",
      "\n",
      "Test Error: \n",
      " Accuracy: 0.0%, Avg loss: 35.180218 \n",
      "\n",
      "Done!\n",
      "Epoch 3\n",
      "-------------------------------\n",
      "Test Error: \n",
      " Accuracy: 0.0%, Avg loss: 8.924340 \n",
      "\n",
      "Test Error: \n",
      " Accuracy: 0.0%, Avg loss: 23.806984 \n",
      "\n",
      "Done!\n",
      "Epoch 4\n",
      "-------------------------------\n",
      "Test Error: \n",
      " Accuracy: 0.0%, Avg loss: 4.330860 \n",
      "\n",
      "Test Error: \n",
      " Accuracy: 0.0%, Avg loss: 6.796065 \n",
      "\n",
      "Done!\n",
      "Epoch 5\n",
      "-------------------------------\n",
      "Test Error: \n",
      " Accuracy: 0.0%, Avg loss: 2.726331 \n",
      "\n",
      "Test Error: \n",
      " Accuracy: 0.0%, Avg loss: 4.939175 \n",
      "\n",
      "Done!\n",
      "Epoch 6\n",
      "-------------------------------\n"
     ]
    },
    {
     "name": "stderr",
     "output_type": "stream",
     "text": [
      " 18%|███████▉                                    | 9/50 [00:00<00:01, 27.25it/s]"
     ]
    },
    {
     "name": "stdout",
     "output_type": "stream",
     "text": [
      "Test Error: \n",
      " Accuracy: 0.0%, Avg loss: 1.799025 \n",
      "\n",
      "Test Error: \n",
      " Accuracy: 0.0%, Avg loss: 5.636310 \n",
      "\n",
      "Done!\n",
      "Epoch 7\n",
      "-------------------------------\n",
      "Test Error: \n",
      " Accuracy: 0.0%, Avg loss: 1.604898 \n",
      "\n",
      "Test Error: \n",
      " Accuracy: 0.0%, Avg loss: 4.492684 \n",
      "\n",
      "Done!\n",
      "Epoch 8\n",
      "-------------------------------\n",
      "Test Error: \n",
      " Accuracy: 0.0%, Avg loss: 1.527560 \n",
      "\n",
      "Test Error: \n",
      " Accuracy: 0.0%, Avg loss: 3.637062 \n",
      "\n",
      "Done!\n",
      "Epoch 9\n",
      "-------------------------------\n",
      "Test Error: \n",
      " Accuracy: 0.0%, Avg loss: 1.458165 \n",
      "\n",
      "Test Error: \n",
      " Accuracy: 0.0%, Avg loss: 2.875007 \n",
      "\n",
      "Done!\n",
      "Epoch 10\n",
      "-------------------------------\n",
      "Test Error: \n",
      " Accuracy: 0.0%, Avg loss: 1.396421 \n",
      "\n",
      "Test Error: \n",
      " Accuracy: 0.0%, Avg loss: 2.692347 \n",
      "\n",
      "Done!\n",
      "Epoch 11\n",
      "-------------------------------\n",
      "Test Error: \n",
      " Accuracy: 0.0%, Avg loss: 1.349473 \n",
      "\n",
      "Test Error: \n",
      " Accuracy: 0.0%, Avg loss: 2.635946 \n",
      "\n",
      "Done!\n",
      "Epoch 12\n",
      "-------------------------------\n"
     ]
    },
    {
     "name": "stderr",
     "output_type": "stream",
     "text": [
      " 30%|████████████▉                              | 15/50 [00:00<00:01, 27.66it/s]"
     ]
    },
    {
     "name": "stdout",
     "output_type": "stream",
     "text": [
      "Test Error: \n",
      " Accuracy: 0.0%, Avg loss: 1.295402 \n",
      "\n",
      "Test Error: \n",
      " Accuracy: 0.0%, Avg loss: 2.719406 \n",
      "\n",
      "Done!\n",
      "Epoch 13\n",
      "-------------------------------\n",
      "Test Error: \n",
      " Accuracy: 0.0%, Avg loss: 1.248005 \n",
      "\n",
      "Test Error: \n",
      " Accuracy: 0.0%, Avg loss: 2.747068 \n",
      "\n",
      "Done!\n",
      "Epoch 14\n",
      "-------------------------------\n",
      "Test Error: \n",
      " Accuracy: 0.0%, Avg loss: 1.220160 \n",
      "\n",
      "Test Error: \n",
      " Accuracy: 0.0%, Avg loss: 2.759839 \n",
      "\n",
      "Done!\n",
      "Epoch 15\n",
      "-------------------------------\n",
      "Test Error: \n",
      " Accuracy: 0.0%, Avg loss: 1.190572 \n",
      "\n",
      "Test Error: \n",
      " Accuracy: 0.0%, Avg loss: 3.128378 \n",
      "\n",
      "Done!\n",
      "Epoch 16\n",
      "-------------------------------\n",
      "Test Error: \n",
      " Accuracy: 0.0%, Avg loss: 1.170162 \n",
      "\n",
      "Test Error: \n",
      " Accuracy: 0.0%, Avg loss: 3.083592 \n",
      "\n",
      "Done!\n",
      "Epoch 17\n",
      "-------------------------------\n",
      "Test Error: \n",
      " Accuracy: 0.0%, Avg loss: 1.156331 \n",
      "\n",
      "Test Error: \n",
      " Accuracy: 0.0%, Avg loss: 3.146102 \n",
      "\n",
      "Done!\n",
      "Epoch 18\n",
      "-------------------------------\n"
     ]
    },
    {
     "name": "stderr",
     "output_type": "stream",
     "text": [
      " 42%|██████████████████                         | 21/50 [00:00<00:01, 27.19it/s]"
     ]
    },
    {
     "name": "stdout",
     "output_type": "stream",
     "text": [
      "Test Error: \n",
      " Accuracy: 0.0%, Avg loss: 1.143110 \n",
      "\n",
      "Test Error: \n",
      " Accuracy: 0.0%, Avg loss: 3.355193 \n",
      "\n",
      "Done!\n",
      "Epoch 19\n",
      "-------------------------------\n",
      "Test Error: \n",
      " Accuracy: 0.0%, Avg loss: 1.135633 \n",
      "\n",
      "Test Error: \n",
      " Accuracy: 0.0%, Avg loss: 3.157237 \n",
      "\n",
      "Done!\n",
      "Epoch 20\n",
      "-------------------------------\n",
      "Test Error: \n",
      " Accuracy: 0.0%, Avg loss: 1.125938 \n",
      "\n",
      "Test Error: \n",
      " Accuracy: 0.0%, Avg loss: 2.983465 \n",
      "\n",
      "Done!\n",
      "Epoch 21\n",
      "-------------------------------\n",
      "Test Error: \n",
      " Accuracy: 0.0%, Avg loss: 1.112436 \n",
      "\n",
      "Test Error: \n",
      " Accuracy: 0.0%, Avg loss: 2.962742 \n",
      "\n",
      "Done!\n",
      "Epoch 22\n",
      "-------------------------------\n",
      "Test Error: \n",
      " Accuracy: 0.0%, Avg loss: 1.094351 \n",
      "\n",
      "Test Error: \n",
      " Accuracy: 0.0%, Avg loss: 3.061556 \n",
      "\n",
      "Done!\n",
      "Epoch 23\n",
      "-------------------------------\n",
      "Test Error: \n",
      " Accuracy: 0.0%, Avg loss: 1.082696 \n",
      "\n",
      "Test Error: \n",
      " Accuracy: 0.0%, Avg loss: 2.888263 \n",
      "\n",
      "Done!\n",
      "Epoch 24\n",
      "-------------------------------\n"
     ]
    },
    {
     "name": "stderr",
     "output_type": "stream",
     "text": [
      " 58%|████████████████████████▉                  | 29/50 [00:01<00:00, 29.84it/s]"
     ]
    },
    {
     "name": "stdout",
     "output_type": "stream",
     "text": [
      "Test Error: \n",
      " Accuracy: 0.0%, Avg loss: 1.075394 \n",
      "\n",
      "Test Error: \n",
      " Accuracy: 0.0%, Avg loss: 2.719285 \n",
      "\n",
      "Done!\n",
      "Epoch 25\n",
      "-------------------------------\n",
      "Test Error: \n",
      " Accuracy: 0.0%, Avg loss: 1.067515 \n",
      "\n",
      "Test Error: \n",
      " Accuracy: 0.0%, Avg loss: 2.558624 \n",
      "\n",
      "Done!\n",
      "Epoch 26\n",
      "-------------------------------\n",
      "Test Error: \n",
      " Accuracy: 0.0%, Avg loss: 1.061822 \n",
      "\n",
      "Test Error: \n",
      " Accuracy: 0.0%, Avg loss: 2.564793 \n",
      "\n",
      "Done!\n",
      "Epoch 27\n",
      "-------------------------------\n",
      "Test Error: \n",
      " Accuracy: 0.0%, Avg loss: 1.051930 \n",
      "\n",
      "Test Error: \n",
      " Accuracy: 0.0%, Avg loss: 2.454781 \n",
      "\n",
      "Done!\n",
      "Epoch 28\n",
      "-------------------------------\n",
      "Test Error: \n",
      " Accuracy: 0.0%, Avg loss: 1.044554 \n",
      "\n",
      "Test Error: \n",
      " Accuracy: 0.0%, Avg loss: 2.529288 \n",
      "\n",
      "Done!\n",
      "Epoch 29\n",
      "-------------------------------\n",
      "Test Error: \n",
      " Accuracy: 0.0%, Avg loss: 1.036663 \n",
      "\n",
      "Test Error: \n",
      " Accuracy: 0.0%, Avg loss: 2.569705 \n",
      "\n",
      "Done!\n",
      "Epoch 30\n",
      "-------------------------------\n",
      "Test Error: \n",
      " Accuracy: 0.0%, Avg loss: 1.032695 \n",
      "\n",
      "Test Error: \n",
      " Accuracy: 0.0%, Avg loss: 2.732974 \n",
      "\n",
      "Done!\n",
      "Epoch 31\n",
      "-------------------------------\n"
     ]
    },
    {
     "name": "stderr",
     "output_type": "stream",
     "text": [
      " 70%|██████████████████████████████             | 35/50 [00:01<00:00, 27.28it/s]"
     ]
    },
    {
     "name": "stdout",
     "output_type": "stream",
     "text": [
      "Test Error: \n",
      " Accuracy: 0.0%, Avg loss: 1.025702 \n",
      "\n",
      "Test Error: \n",
      " Accuracy: 0.0%, Avg loss: 3.050903 \n",
      "\n",
      "Done!\n",
      "Epoch 32\n",
      "-------------------------------\n",
      "Test Error: \n",
      " Accuracy: 0.0%, Avg loss: 1.018982 \n",
      "\n",
      "Test Error: \n",
      " Accuracy: 0.0%, Avg loss: 3.081396 \n",
      "\n",
      "Done!\n",
      "Epoch 33\n",
      "-------------------------------\n",
      "Test Error: \n",
      " Accuracy: 0.0%, Avg loss: 1.010293 \n",
      "\n",
      "Test Error: \n",
      " Accuracy: 0.0%, Avg loss: 3.383030 \n",
      "\n",
      "Done!\n",
      "Epoch 34\n",
      "-------------------------------\n",
      "Test Error: \n",
      " Accuracy: 0.0%, Avg loss: 1.003948 \n",
      "\n",
      "Test Error: \n",
      " Accuracy: 0.0%, Avg loss: 3.436955 \n",
      "\n",
      "Done!\n",
      "Epoch 35\n",
      "-------------------------------\n",
      "Test Error: \n",
      " Accuracy: 0.0%, Avg loss: 0.999284 \n",
      "\n",
      "Test Error: \n",
      " Accuracy: 0.0%, Avg loss: 3.459621 \n",
      "\n",
      "Done!\n",
      "Epoch 36\n",
      "-------------------------------\n"
     ]
    },
    {
     "name": "stderr",
     "output_type": "stream",
     "text": [
      " 84%|████████████████████████████████████       | 42/50 [00:01<00:00, 29.22it/s]"
     ]
    },
    {
     "name": "stdout",
     "output_type": "stream",
     "text": [
      "Test Error: \n",
      " Accuracy: 0.0%, Avg loss: 0.996458 \n",
      "\n",
      "Test Error: \n",
      " Accuracy: 0.0%, Avg loss: 3.390968 \n",
      "\n",
      "Done!\n",
      "Epoch 37\n",
      "-------------------------------\n",
      "Test Error: \n",
      " Accuracy: 0.0%, Avg loss: 0.992371 \n",
      "\n",
      "Test Error: \n",
      " Accuracy: 0.0%, Avg loss: 3.404602 \n",
      "\n",
      "Done!\n",
      "Epoch 38\n",
      "-------------------------------\n",
      "Test Error: \n",
      " Accuracy: 0.0%, Avg loss: 0.986300 \n",
      "\n",
      "Test Error: \n",
      " Accuracy: 0.0%, Avg loss: 3.330491 \n",
      "\n",
      "Done!\n",
      "Epoch 39\n",
      "-------------------------------\n",
      "Test Error: \n",
      " Accuracy: 0.0%, Avg loss: 0.984471 \n",
      "\n",
      "Test Error: \n",
      " Accuracy: 0.0%, Avg loss: 3.315313 \n",
      "\n",
      "Done!\n",
      "Epoch 40\n",
      "-------------------------------\n",
      "Test Error: \n",
      " Accuracy: 0.0%, Avg loss: 0.982342 \n",
      "\n",
      "Test Error: \n",
      " Accuracy: 0.0%, Avg loss: 3.407478 \n",
      "\n",
      "Done!\n",
      "Epoch 41\n",
      "-------------------------------\n",
      "Test Error: \n",
      " Accuracy: 0.0%, Avg loss: 0.979353 \n",
      "\n",
      "Test Error: \n",
      " Accuracy: 0.0%, Avg loss: 3.457722 \n",
      "\n",
      "Done!\n",
      "Epoch 42\n",
      "-------------------------------\n",
      "Test Error: \n",
      " Accuracy: 0.0%, Avg loss: 0.977418 \n",
      "\n",
      "Test Error: \n",
      " Accuracy: 0.0%, Avg loss: 3.488594 \n",
      "\n",
      "Done!\n",
      "Epoch 43\n",
      "-------------------------------\n"
     ]
    },
    {
     "name": "stderr",
     "output_type": "stream",
     "text": [
      "\r",
      " 92%|███████████████████████████████████████▌   | 46/50 [00:01<00:00, 29.75it/s]"
     ]
    },
    {
     "name": "stdout",
     "output_type": "stream",
     "text": [
      "Test Error: \n",
      " Accuracy: 0.0%, Avg loss: 0.975875 \n",
      "\n",
      "Test Error: \n",
      " Accuracy: 0.0%, Avg loss: 3.526814 \n",
      "\n",
      "Done!\n",
      "Epoch 44\n",
      "-------------------------------\n",
      "Test Error: \n",
      " Accuracy: 0.0%, Avg loss: 0.972773 \n",
      "\n",
      "Test Error: \n",
      " Accuracy: 0.0%, Avg loss: 3.514214 \n",
      "\n",
      "Done!\n",
      "Epoch 45\n",
      "-------------------------------\n",
      "Test Error: \n",
      " Accuracy: 0.0%, Avg loss: 0.968406 \n",
      "\n",
      "Test Error: \n",
      " Accuracy: 0.0%, Avg loss: 3.596529 \n",
      "\n",
      "Done!\n",
      "Epoch 46\n",
      "-------------------------------\n",
      "Test Error: \n",
      " Accuracy: 0.0%, Avg loss: 0.964635 \n",
      "\n",
      "Test Error: \n",
      " Accuracy: 0.0%, Avg loss: 3.603965 \n",
      "\n",
      "Done!\n",
      "Epoch 47\n",
      "-------------------------------\n",
      "Test Error: \n",
      " Accuracy: 0.0%, Avg loss: 0.961738 \n",
      "\n",
      "Test Error: \n",
      " Accuracy: 0.0%, Avg loss: 3.674281 \n",
      "\n",
      "Done!\n",
      "Epoch 48\n",
      "-------------------------------\n",
      "Test Error: \n",
      " Accuracy: 0.0%, Avg loss: 0.959620 \n",
      "\n",
      "Test Error: \n",
      " Accuracy: 0.0%, Avg loss: 3.742173 \n",
      "\n",
      "Done!\n",
      "Epoch 49\n",
      "-------------------------------\n",
      "Test Error: \n",
      " Accuracy: 0.0%, Avg loss: 0.957795 \n",
      "\n",
      "Test Error: \n",
      " Accuracy: 0.0%, Avg loss: 3.728905 \n",
      "\n",
      "Done!\n",
      "Epoch 50\n",
      "-------------------------------\n"
     ]
    },
    {
     "name": "stderr",
     "output_type": "stream",
     "text": [
      "100%|███████████████████████████████████████████| 50/50 [00:01<00:00, 28.52it/s]"
     ]
    },
    {
     "name": "stdout",
     "output_type": "stream",
     "text": [
      "Test Error: \n",
      " Accuracy: 0.0%, Avg loss: 0.956061 \n",
      "\n",
      "Test Error: \n",
      " Accuracy: 0.0%, Avg loss: 3.685173 \n",
      "\n",
      "Done!\n"
     ]
    },
    {
     "name": "stderr",
     "output_type": "stream",
     "text": [
      "\n"
     ]
    }
   ],
   "source": [
    "# defining and training the model\n",
    "NN_loss = []\n",
    "NN_test_loss = []\n",
    "W.to(device)\n",
    "model = fm.Fourier_model(W)\n",
    "model.to(device)\n",
    "loss_fn = nn.MSELoss(reduction='mean') \n",
    "optimizer = torch.optim.LBFGS(model.parameters(), lr=0.5, history_size=50, line_search_fn=\"strong_wolfe\")\n",
    "\n",
    "epochs = 50\n",
    "for t in tqdm(range(epochs)):\n",
    "    print(f\"Epoch {t+1}\\n-------------------------------\")\n",
    "    train(train_dataloader, model, loss_fn, optimizer)\n",
    "    NN_loss.append(test(train_dataloader, model, loss_fn))\n",
    "    NN_test_loss.append(test(test_dataloader, model, loss_fn))    \n",
    "    print(\"Done!\")"
   ]
  },
  {
   "cell_type": "code",
   "execution_count": 9,
   "id": "d9e3a302",
   "metadata": {},
   "outputs": [
    {
     "data": {
      "text/plain": [
       "<matplotlib.legend.Legend at 0x7fabf4227ac0>"
      ]
     },
     "execution_count": 9,
     "metadata": {},
     "output_type": "execute_result"
    },
    {
     "data": {
      "image/png": "[encoded data removed]",
      "text/plain": [
       "<Figure size 640x480 with 1 Axes>"
      ]
     },
     "metadata": {},
     "output_type": "display_data"
    }
   ],
   "source": [
    "x = np.arange(0, len(NN_loss), 1)\n",
    "plt.plot(x, NN_loss, color=\"C0\", label=\"training loss\")\n",
    "plt.plot(x, NN_test_loss, color=\"C1\", label=\"test loss\")\n",
    "plt.xlabel(\"Epochs\")\n",
    "plt.ylabel(\"MSE loss\")\n",
    "plt.ylim(0,30)\n",
    "plt.legend()"
   ]
  },
  {
   "cell_type": "code",
   "execution_count": null,
   "id": "72afd1d4",
   "metadata": {},
   "outputs": [],
   "source": []
  },
  {
   "cell_type": "code",
   "execution_count": null,
   "id": "389ca91f",
   "metadata": {},
   "outputs": [],
   "source": []
  }
 ],
 "metadata": {
  "jupytext": {
   "formats": "ipynb,py:light"
  },
  "kernelspec": {
   "display_name": "Python 3 (ipykernel)",
   "language": "python",
   "name": "python3"
  },
  "language_info": {
   "codemirror_mode": {
    "name": "ipython",
    "version": 3
   },
   "file_extension": ".py",
   "mimetype": "text/x-python",
   "name": "python",
   "nbconvert_exporter": "python",
   "pygments_lexer": "ipython3",
   "version": "3.8.16"
  },
  "vscode": {
   "interpreter": {
    "hash": "976a6a4b59ad76174caf1c08192cfa706195275d8089ffa931ad7a4b840b94d5"
   }
  }
 },
 "nbformat": 4,
 "nbformat_minor": 5
}
