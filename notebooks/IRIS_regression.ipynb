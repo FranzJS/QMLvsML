{
 "cells": [
  {
   "cell_type": "code",
   "execution_count": 1,
   "metadata": {},
   "outputs": [],
   "source": [
    "import numpy as np\n",
    "import pandas as pd\n",
    "import matplotlib.pyplot as plt\n",
    "from tqdm import tqdm"
   ]
  },
  {
   "cell_type": "code",
   "execution_count": 2,
   "metadata": {},
   "outputs": [
    {
     "name": "stdout",
     "output_type": "stream",
     "text": [
      "Using cuda device\n"
     ]
    }
   ],
   "source": [
    "import torch\n",
    "from torch.utils.data import random_split\n",
    "from torch.utils.data import DataLoader\n",
    "from torch import nn\n",
    "device = 'cuda' if torch.cuda.is_available() else 'cpu'\n",
    "print(f'Using {device} device')"
   ]
  },
  {
   "cell_type": "code",
   "execution_count": 3,
   "metadata": {},
   "outputs": [],
   "source": [
    "import sys\n",
    "sys.path.insert(0, \"../\")\n",
    "import utils.utils as utils\n",
    "import models.fourier_models as fm"
   ]
  },
  {
   "cell_type": "code",
   "execution_count": 4,
   "metadata": {},
   "outputs": [
    {
     "name": "stdout",
     "output_type": "stream",
     "text": [
      "maximal elements:\n",
      "tensor(1.5708, dtype=torch.float64)\n",
      "tensor(-1.5708, dtype=torch.float64)\n"
     ]
    }
   ],
   "source": [
    "from sklearn.datasets import fetch_california_housing\n",
    "from sklearn.model_selection import train_test_split\n",
    "\n",
    "data = fetch_california_housing()\n"
   ]
  },
  {
   "cell_type": "code",
   "execution_count": null,
   "metadata": {},
   "outputs": [],
   "source": [
    "X = torch.tensor(iris['data'], dtype=torch.float64)\n",
    "y = torch.tensor(iris['target'], dtype=torch.float64)\n",
    "names = iris['target_names']\n",
    "feature_names = iris['feature_names']\n",
    "\n",
    "# Scale data to have mean 0 and variance 1 \n",
    "X_scaled = utils.data_scaler(X, interval=(-torch.pi/2, torch.pi/2))\n",
    "\n",
    "# Split the data set into training and testing\n",
    "X_train, X_test, y_train, y_test = train_test_split(\n",
    "    X_scaled, y, test_size=0.2, random_state=2)\n",
    "\n",
    "print(\"maximal elements:\")\n",
    "print(torch.max(X_scaled.flatten()))\n",
    "print(torch.min(X_scaled.flatten()))"
   ]
  },
  {
   "cell_type": "code",
   "execution_count": 5,
   "metadata": {},
   "outputs": [],
   "source": [
    "# generate frequencies\n",
    "max_freq = 5\n",
    "dim = X_scaled[0].shape[0]\n",
    "\n",
    "W = utils.freq_generator(max_freq, dim)"
   ]
  },
  {
   "cell_type": "code",
   "execution_count": 6,
   "metadata": {},
   "outputs": [],
   "source": [
    "# compute best approximation\n",
    "ba_coeffs = utils.fourier_best_approx(W, X_train, y_train)"
   ]
  },
  {
   "cell_type": "code",
   "execution_count": 7,
   "metadata": {},
   "outputs": [
    {
     "name": "stdout",
     "output_type": "stream",
     "text": [
      "training_loss:  tensor(3.5009e-13, dtype=torch.float64)\n",
      "test loss:  tensor(3.8488, dtype=torch.float64)\n"
     ]
    }
   ],
   "source": [
    "print(\"training_loss: \",utils.loss(W, ba_coeffs, X_train, y_train))\n",
    "print(\"test loss: \",utils.loss(W, ba_coeffs, X_test, y_test))"
   ]
  },
  {
   "cell_type": "code",
   "execution_count": 8,
   "metadata": {},
   "outputs": [
    {
     "name": "stdout",
     "output_type": "stream",
     "text": [
      "max_freq:  1\n",
      "training_loss:  3.1465486972942096\n",
      "test loss:  1.2301222471577289\n",
      "parameters:  32\n",
      "max_freq:  2\n",
      "training_loss:  3.7640078292401256e-20\n",
      "test loss:  172.02291091261404\n",
      "parameters:  162\n",
      "max_freq:  3\n",
      "training_loss:  1.7256868727125184e-23\n",
      "test loss:  67.14295575964084\n",
      "parameters:  512\n",
      "max_freq:  4\n",
      "training_loss:  3.2242782429670486e-24\n",
      "test loss:  40.15129770606563\n",
      "parameters:  1250\n",
      "max_freq:  5\n",
      "training_loss:  1.2256398764141104e-25\n",
      "test loss:  14.813456487459387\n",
      "parameters:  2592\n",
      "max_freq:  6\n",
      "training_loss:  3.9921939297302137e-26\n",
      "test loss:  15.318980941061477\n",
      "parameters:  4802\n",
      "max_freq:  7\n",
      "training_loss:  1.8494267684667258e-26\n",
      "test loss:  28.172961834530767\n",
      "parameters:  8192\n",
      "max_freq:  8\n",
      "training_loss:  1.5641999249137354e-26\n",
      "test loss:  23.090448358669256\n",
      "parameters:  13122\n",
      "max_freq:  9\n",
      "training_loss:  4.7845493009982325e-26\n",
      "test loss:  15.909801106433404\n",
      "parameters:  20000\n",
      "max_freq:  10\n",
      "training_loss:  1.3284793200260994e-25\n",
      "test loss:  10.735086971545858\n",
      "parameters:  29282\n"
     ]
    }
   ],
   "source": [
    "ba_loss = []\n",
    "ba_test_loss = []\n",
    "for max_freq in range(1, 10+1):\n",
    "    W = utils.freq_generator(max_freq, dim)\n",
    "    ba_coeffs = utils.fourier_best_approx(W, X_train, y_train)\n",
    "    ba_loss.append(utils.loss(W, ba_coeffs, X_train, y_train).item()**2)\n",
    "    ba_test_loss.append(utils.loss(W, ba_coeffs, X_test, y_test).item()**2)\n",
    "    print(\"max_freq: \", max_freq)\n",
    "    print(\"training_loss: \",utils.loss(W, ba_coeffs, X_train, y_train).item()**2)\n",
    "    print(\"test loss: \",utils.loss(W, ba_coeffs, X_test, y_test).item()**2)\n",
    "    print(\"parameters: \", len(ba_coeffs))"
   ]
  },
  {
   "cell_type": "code",
   "execution_count": 9,
   "metadata": {},
   "outputs": [],
   "source": [
    "# -----------------------------------------"
   ]
  },
  {
   "cell_type": "code",
   "execution_count": 10,
   "metadata": {},
   "outputs": [],
   "source": [
    "def train(dataloader, model, loss_fn, optimizer, printing=False):\n",
    "    size = len(dataloader.dataset)\n",
    "    model.train()\n",
    "    for batch, (X, y) in enumerate(dataloader):\n",
    "        X, y = X.to(device), y.to(device)\n",
    "\n",
    "        # Compute prediction error\n",
    "        pred = model(X)\n",
    "        loss = loss_fn(pred.flatten(), y)\n",
    "\n",
    "        # Backpropagation\n",
    "        optimizer.zero_grad()\n",
    "        loss.backward()\n",
    "        optimizer.step()\n",
    "\n",
    "        if batch % 100 == 0:\n",
    "            loss, current = loss.item(), batch * len(X)\n",
    "            if printing == True:\n",
    "                print(f\"loss: {loss:>7f}  [{current:>5d}/{size:>5d}]\")\n",
    "                for param_group in optimizer.param_groups:\n",
    "                    print(\"lr: \", param_group['lr'])\n",
    "        return loss\n",
    "\n",
    "def test(dataloader, model, loss_fn):\n",
    "    size = len(dataloader.dataset)\n",
    "    num_batches = len(dataloader)\n",
    "    model.eval()\n",
    "    test_loss, correct = 0, 0\n",
    "    with torch.no_grad():\n",
    "        for X, y in dataloader:\n",
    "            X, y = X.to(device), y.to(device)\n",
    "            pred = model(X)\n",
    "            test_loss += loss_fn(pred.flatten(), y).item()\n",
    "            correct += (pred.argmax(1) == y).type(torch.float).sum().item()\n",
    "    test_loss /= num_batches\n",
    "    correct /= size\n",
    "    print(f\"Test Error: \\n Accuracy: {(100*correct):>0.1f}%, Avg loss: {test_loss:>8f} \\n\")\n",
    "    return test_loss"
   ]
  },
  {
   "cell_type": "code",
   "execution_count": 11,
   "metadata": {},
   "outputs": [],
   "source": [
    "train_data_list = []\n",
    "for i in range(len(X_train)):\n",
    "    data_point = (X_train[i], y_train[i])\n",
    "    train_data_list.append(data_point)\n",
    "\n",
    "test_data_list = []\n",
    "for i in range(len(X_test)):\n",
    "    data_point = (X_test[i], y_test[i])\n",
    "    test_data_list.append(data_point)"
   ]
  },
  {
   "cell_type": "code",
   "execution_count": 12,
   "metadata": {},
   "outputs": [],
   "source": [
    "train_dataloader = DataLoader(train_data_list, batch_size=200, shuffle=True)\n",
    "test_dataloader = DataLoader(test_data_list, batch_size=200, shuffle=True)"
   ]
  },
  {
   "cell_type": "code",
   "execution_count": 13,
   "metadata": {},
   "outputs": [],
   "source": [
    "W = utils.freq_generator(4, dim)\n",
    "model = fm.Fourier_model(W)\n",
    "model.to(device)\n",
    "loss_fn = nn.MSELoss(reduction='sum') # equiv. to torch.linalg.norm(input-target)**2\n",
    "optimizer = torch.optim.Adam(model.parameters(), lr=5*1e-3)\n",
    "# scheduler = torch.optim.lr_scheduler.LinearLR(optimizer)"
   ]
  },
  {
   "cell_type": "code",
   "execution_count": null,
   "metadata": {},
   "outputs": [
    {
     "name": "stderr",
     "output_type": "stream",
     "text": [
      "100%|██████████| 100000/100000 [01:51<00:00, 894.95it/s]\n"
     ]
    },
    {
     "name": "stdout",
     "output_type": "stream",
     "text": [
      "Done!\n",
      "loss: 3.770119  [    0/  120]\n",
      "lr:  0.005\n",
      "Test Error: \n",
      " Accuracy: 46.7%, Avg loss: 0.754717 \n",
      "\n"
     ]
    },
    {
     "name": "stderr",
     "output_type": "stream",
     "text": [
      "100%|██████████| 100000/100000 [01:45<00:00, 944.51it/s]\n"
     ]
    },
    {
     "name": "stdout",
     "output_type": "stream",
     "text": [
      "Done!\n",
      "loss: 2.091607  [    0/  120]\n",
      "lr:  0.005\n",
      "Test Error: \n",
      " Accuracy: 46.7%, Avg loss: 0.865995 \n",
      "\n"
     ]
    },
    {
     "name": "stderr",
     "output_type": "stream",
     "text": [
      "100%|██████████| 100000/100000 [01:50<00:00, 908.11it/s]\n"
     ]
    },
    {
     "name": "stdout",
     "output_type": "stream",
     "text": [
      "Done!\n",
      "loss: 1.397399  [    0/  120]\n",
      "lr:  0.005\n",
      "Test Error: \n",
      " Accuracy: 46.7%, Avg loss: 3.505841 \n",
      "\n"
     ]
    },
    {
     "name": "stderr",
     "output_type": "stream",
     "text": [
      "100%|██████████| 100000/100000 [01:49<00:00, 916.70it/s]\n"
     ]
    },
    {
     "name": "stdout",
     "output_type": "stream",
     "text": [
      "Done!\n",
      "loss: 0.727753  [    0/  120]\n",
      "lr:  0.005\n",
      "Test Error: \n",
      " Accuracy: 46.7%, Avg loss: 3.870598 \n",
      "\n"
     ]
    },
    {
     "name": "stderr",
     "output_type": "stream",
     "text": [
      "100%|██████████| 100000/100000 [01:52<00:00, 884.97it/s]\n"
     ]
    },
    {
     "name": "stdout",
     "output_type": "stream",
     "text": [
      "Done!\n",
      "loss: 4.662573  [    0/  120]\n",
      "lr:  0.005\n",
      "Test Error: \n",
      " Accuracy: 46.7%, Avg loss: 8.864640 \n",
      "\n"
     ]
    },
    {
     "name": "stderr",
     "output_type": "stream",
     "text": [
      "100%|██████████| 100000/100000 [03:05<00:00, 539.67it/s]\n"
     ]
    },
    {
     "name": "stdout",
     "output_type": "stream",
     "text": [
      "Done!\n",
      "loss: 6.258874  [    0/  120]\n",
      "lr:  0.005\n",
      "Test Error: \n",
      " Accuracy: 46.7%, Avg loss: 11.184166 \n",
      "\n"
     ]
    },
    {
     "name": "stderr",
     "output_type": "stream",
     "text": [
      "100%|██████████| 100000/100000 [05:09<00:00, 322.88it/s]\n"
     ]
    },
    {
     "name": "stdout",
     "output_type": "stream",
     "text": [
      "Done!\n",
      "loss: 0.028676  [    0/  120]\n",
      "lr:  0.005\n",
      "Test Error: \n",
      " Accuracy: 46.7%, Avg loss: 20.016375 \n",
      "\n"
     ]
    },
    {
     "name": "stderr",
     "output_type": "stream",
     "text": [
      "100%|██████████| 100000/100000 [13:23<00:00, 124.53it/s]\n"
     ]
    },
    {
     "name": "stdout",
     "output_type": "stream",
     "text": [
      "Done!\n",
      "loss: 0.000705  [    0/  120]\n",
      "lr:  0.005\n",
      "Test Error: \n",
      " Accuracy: 46.7%, Avg loss: 21.334272 \n",
      "\n"
     ]
    },
    {
     "name": "stderr",
     "output_type": "stream",
     "text": [
      "100%|██████████| 100000/100000 [24:34<00:00, 67.84it/s] \n"
     ]
    },
    {
     "name": "stdout",
     "output_type": "stream",
     "text": [
      "Done!\n",
      "loss: 5.479155  [    0/  120]\n",
      "lr:  0.005\n",
      "Test Error: \n",
      " Accuracy: 46.7%, Avg loss: 19.587521 \n",
      "\n"
     ]
    },
    {
     "name": "stderr",
     "output_type": "stream",
     "text": [
      " 10%|▉         | 9613/100000 [04:05<39:43, 37.93it/s]  "
     ]
    }
   ],
   "source": [
    "NN_loss = []\n",
    "NN_test_loss = []\n",
    "for max_freq in range(1, 10+1):\n",
    "    W = utils.freq_generator(max_freq, dim).to(device)\n",
    "    model = fm.Fourier_model(W)\n",
    "    model.to(device)\n",
    "    loss_fn = nn.MSELoss(reduction='sum') # equiv. to torch.linalg.norm(input-target)**2\n",
    "    optimizer = torch.optim.Adam(model.parameters(), lr=5*1e-3)\n",
    "\n",
    "    epochs = 100000\n",
    "    for t in tqdm(range(epochs)):\n",
    "        # print(f\"Epoch {t+1}\\n-------------------------------\")\n",
    "        train(train_dataloader, model, loss_fn, optimizer)\n",
    "        # test(test_dataloader, model, loss_fn)\n",
    "        # scheduler.step()\n",
    "    print(\"Done!\")\n",
    "    NN_loss.append(train(train_dataloader, model, loss_fn, optimizer, printing=True))\n",
    "    NN_test_loss.append(test(test_dataloader, model, loss_fn))"
   ]
  },
  {
   "cell_type": "code",
   "execution_count": 15,
   "metadata": {},
   "outputs": [
    {
     "data": {
      "text/plain": [
       "[<matplotlib.lines.Line2D at 0x7f74d13943a0>]"
      ]
     },
     "execution_count": 15,
     "metadata": {},
     "output_type": "execute_result"
    },
    {
     "data": {
      "image/png": "[encoded data removed]",
      "text/plain": [
       "<Figure size 432x288 with 1 Axes>"
      ]
     },
     "metadata": {
      "needs_background": "light"
     },
     "output_type": "display_data"
    }
   ],
   "source": [
    "w = np.arange(1, 10+1, 1)\n",
    "plt.plot(w, ba_loss)\n",
    "plt.plot(w, NN_loss)"
   ]
  },
  {
   "cell_type": "code",
   "execution_count": 17,
   "metadata": {},
   "outputs": [],
   "source": [
    "save = True\n",
    "save_path = \"../data/IRIS_03/\"\n",
    "if save == True:\n",
    "    np.save(save_path+\"NN_loss.npy\", np.array(NN_loss))\n",
    "    np.save(save_path+\"NN_test_loss.npy\", np.array(NN_test_loss))\n",
    "    np.save(save_path+\"ba_loss.npy\", np.array(ba_loss))\n",
    "    np.save(save_path+\"ba_test_loss.npy\", np.array(ba_test_loss))"
   ]
  },
  {
   "cell_type": "code",
   "execution_count": 18,
   "metadata": {},
   "outputs": [
    {
     "data": {
      "text/plain": [
       "(0.0, 100.0)"
      ]
     },
     "execution_count": 18,
     "metadata": {},
     "output_type": "execute_result"
    },
    {
     "data": {
      "image/png": "[encoded data removed]",
      "text/plain": [
       "<Figure size 432x288 with 1 Axes>"
      ]
     },
     "metadata": {
      "needs_background": "light"
     },
     "output_type": "display_data"
    }
   ],
   "source": [
    "plt.plot(w, ba_test_loss)\n",
    "plt.plot(w, NN_test_loss)\n",
    "plt.ylim(0, 100)"
   ]
  },
  {
   "cell_type": "code",
   "execution_count": null,
   "metadata": {},
   "outputs": [],
   "source": []
  }
 ],
 "metadata": {
  "kernelspec": {
   "display_name": "Python 3",
   "language": "python",
   "name": "python3"
  },
  "language_info": {
   "codemirror_mode": {
    "name": "ipython",
    "version": 3
   },
   "file_extension": ".py",
   "mimetype": "text/x-python",
   "name": "python",
   "nbconvert_exporter": "python",
   "pygments_lexer": "ipython3",
   "version": "3.8.5"
  }
 },
 "nbformat": 4,
 "nbformat_minor": 5
}
