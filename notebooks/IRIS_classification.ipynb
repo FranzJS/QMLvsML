{
 "cells": [
  {
   "cell_type": "code",
   "execution_count": 1,
   "metadata": {},
   "outputs": [],
   "source": [
    "import numpy as np\n",
    "import pandas as pd\n",
    "import matplotlib.pyplot as plt\n",
    "from tqdm import tqdm"
   ]
  },
  {
   "cell_type": "code",
   "execution_count": 2,
   "metadata": {},
   "outputs": [
    {
     "name": "stdout",
     "output_type": "stream",
     "text": [
      "Using cuda device\n"
     ]
    }
   ],
   "source": [
    "import torch\n",
    "from torch.utils.data import random_split\n",
    "from torch.utils.data import DataLoader\n",
    "from torch import nn\n",
    "device = 'cuda' if torch.cuda.is_available() else 'cpu'\n",
    "print(f'Using {device} device')"
   ]
  },
  {
   "cell_type": "code",
   "execution_count": 3,
   "metadata": {},
   "outputs": [],
   "source": [
    "import sys\n",
    "sys.path.insert(0, \"../\")\n",
    "import utils.utils as utils\n",
    "import models.fourier_models as fm"
   ]
  },
  {
   "cell_type": "code",
   "execution_count": 4,
   "metadata": {},
   "outputs": [
    {
     "name": "stdout",
     "output_type": "stream",
     "text": [
      "maximal elements:\n",
      "tensor(1.5708, dtype=torch.float64)\n",
      "tensor(1.5708, dtype=torch.float64)\n"
     ]
    }
   ],
   "source": [
    "from sklearn.datasets import load_iris\n",
    "from sklearn.model_selection import train_test_split\n",
    "\n",
    "iris = load_iris()\n",
    "X = torch.tensor(iris['data'], dtype=torch.float64)\n",
    "y = torch.tensor(iris['target'], dtype=torch.float64)\n",
    "names = iris['target_names']\n",
    "feature_names = iris['feature_names']\n",
    "\n",
    "# one hot-encoding of y\n",
    "y = utils.int_to_onehot(y)\n",
    "\n",
    "# Scale data to interval [-pi/2, pi/2]\n",
    "X_scaled = utils.data_scaler(X, interval=(-torch.pi/2, torch.pi/2))\n",
    "\n",
    "# Split the data set into training and testing\n",
    "X_train, X_test, y_train, y_test = train_test_split(\n",
    "    X_scaled, y, test_size=0.2, random_state=2)\n",
    "\n",
    "print(\"maximal elements:\")\n",
    "print(torch.max(X_scaled.flatten()))\n",
    "print(torch.max(-X_scaled.flatten()))"
   ]
  },
  {
   "cell_type": "code",
   "execution_count": 5,
   "metadata": {},
   "outputs": [],
   "source": [
    "# -----------------------------------------"
   ]
  },
  {
   "cell_type": "code",
   "execution_count": 6,
   "metadata": {},
   "outputs": [],
   "source": [
    "def train(dataloader, model, loss_fn, optimizer, printing=False):\n",
    "    size = len(dataloader.dataset)\n",
    "    model.train()\n",
    "    for batch, (X, y) in enumerate(dataloader):\n",
    "        X, y = X.to(device), y.to(device)\n",
    "\n",
    "        # Compute prediction error\n",
    "        pred = model(X)\n",
    "        #print(pred)\n",
    "        loss = loss_fn(pred, y)\n",
    "\n",
    "        # Backpropagation\n",
    "        optimizer.zero_grad()\n",
    "        loss.backward()\n",
    "        optimizer.step()\n",
    "\n",
    "        if batch % 100 == 0:\n",
    "            loss, current = loss.item(), batch * len(X)\n",
    "            if printing == True:\n",
    "                print(f\"loss: {loss:>7f}  [{current:>5d}/{size:>5d}]\")\n",
    "                for param_group in optimizer.param_groups:\n",
    "                    print(\"lr: \", param_group['lr'])\n",
    "    return loss\n",
    "\n",
    "def test(dataloader, model, loss_fn):\n",
    "    size = len(dataloader.dataset)\n",
    "    num_batches = len(dataloader)\n",
    "    model.eval()\n",
    "    test_loss, correct = 0, 0\n",
    "    with torch.no_grad():\n",
    "        for X, y in dataloader:\n",
    "            X, y = X.to(device), y.to(device)\n",
    "            pred = model(X)\n",
    "            test_loss += loss_fn(pred, y).item()\n",
    "            correct += (pred.argmax(dim=1) == y.argmax(dim=1)).type(torch.float).sum().item()\n",
    "    test_loss /= num_batches\n",
    "    correct /= size\n",
    "    print(f\"Test Error: \\n Accuracy: {(100*correct):>0.1f}%, Avg loss: {test_loss:>8f} \\n\")\n",
    "    return test_loss, 100*correct"
   ]
  },
  {
   "cell_type": "code",
   "execution_count": 7,
   "metadata": {},
   "outputs": [],
   "source": [
    "train_data_list = []\n",
    "for i in range(len(X_train)):\n",
    "    data_point = (X_train[i], y_train[i])\n",
    "    train_data_list.append(data_point)\n",
    "\n",
    "test_data_list = []\n",
    "for i in range(len(X_test)):\n",
    "    data_point = (X_test[i], y_test[i])\n",
    "    test_data_list.append(data_point)"
   ]
  },
  {
   "cell_type": "code",
   "execution_count": 8,
   "metadata": {},
   "outputs": [],
   "source": [
    "train_dataloader = DataLoader(train_data_list, batch_size=200, shuffle=True)\n",
    "test_dataloader = DataLoader(test_data_list, batch_size=200, shuffle=True)\n",
    "\n",
    "loss_fn = nn.CrossEntropyLoss()"
   ]
  },
  {
   "cell_type": "code",
   "execution_count": 9,
   "metadata": {},
   "outputs": [
    {
     "name": "stderr",
     "output_type": "stream",
     "text": [
      "100%|██████████| 10000/10000 [00:12<00:00, 817.73it/s]\n"
     ]
    },
    {
     "name": "stdout",
     "output_type": "stream",
     "text": [
      "Done!\n",
      "loss: 0.033572  [    0/  120]\n",
      "lr:  0.005\n",
      "Test Error: \n",
      " Accuracy: 96.7%, Avg loss: 0.159893 \n",
      "\n",
      "Test Error: \n",
      " Accuracy: 96.7%, Avg loss: 0.159893 \n",
      "\n"
     ]
    },
    {
     "name": "stderr",
     "output_type": "stream",
     "text": [
      "100%|██████████| 10000/10000 [00:11<00:00, 851.86it/s]\n"
     ]
    },
    {
     "name": "stdout",
     "output_type": "stream",
     "text": [
      "Done!\n",
      "loss: 0.007729  [    0/  120]\n",
      "lr:  0.005\n",
      "Test Error: \n",
      " Accuracy: 96.7%, Avg loss: 0.478321 \n",
      "\n",
      "Test Error: \n",
      " Accuracy: 96.7%, Avg loss: 0.478321 \n",
      "\n"
     ]
    },
    {
     "name": "stderr",
     "output_type": "stream",
     "text": [
      "100%|██████████| 10000/10000 [00:12<00:00, 819.66it/s]\n"
     ]
    },
    {
     "name": "stdout",
     "output_type": "stream",
     "text": [
      "Done!\n",
      "loss: 0.000352  [    0/  120]\n",
      "lr:  0.005\n",
      "Test Error: \n",
      " Accuracy: 96.7%, Avg loss: 1.085059 \n",
      "\n",
      "Test Error: \n",
      " Accuracy: 96.7%, Avg loss: 1.085059 \n",
      "\n"
     ]
    },
    {
     "name": "stderr",
     "output_type": "stream",
     "text": [
      "100%|██████████| 10000/10000 [00:27<00:00, 358.38it/s]\n"
     ]
    },
    {
     "name": "stdout",
     "output_type": "stream",
     "text": [
      "Done!\n",
      "loss: 0.000036  [    0/  120]\n",
      "lr:  0.005\n",
      "Test Error: \n",
      " Accuracy: 96.7%, Avg loss: 1.167039 \n",
      "\n",
      "Test Error: \n",
      " Accuracy: 96.7%, Avg loss: 1.167039 \n",
      "\n"
     ]
    },
    {
     "name": "stderr",
     "output_type": "stream",
     "text": [
      "100%|██████████| 10000/10000 [00:35<00:00, 282.80it/s]\n"
     ]
    },
    {
     "name": "stdout",
     "output_type": "stream",
     "text": [
      "Done!\n",
      "loss: 0.000007  [    0/  120]\n",
      "lr:  0.005\n",
      "Test Error: \n",
      " Accuracy: 96.7%, Avg loss: 1.274359 \n",
      "\n",
      "Test Error: \n",
      " Accuracy: 96.7%, Avg loss: 1.274359 \n",
      "\n"
     ]
    },
    {
     "name": "stderr",
     "output_type": "stream",
     "text": [
      "100%|██████████| 10000/10000 [00:49<00:00, 203.10it/s]\n"
     ]
    },
    {
     "name": "stdout",
     "output_type": "stream",
     "text": [
      "Done!\n",
      "loss: 0.000002  [    0/  120]\n",
      "lr:  0.005\n",
      "Test Error: \n",
      " Accuracy: 96.7%, Avg loss: 1.232087 \n",
      "\n",
      "Test Error: \n",
      " Accuracy: 96.7%, Avg loss: 1.232087 \n",
      "\n"
     ]
    },
    {
     "name": "stderr",
     "output_type": "stream",
     "text": [
      "100%|██████████| 10000/10000 [01:20<00:00, 124.18it/s]\n"
     ]
    },
    {
     "name": "stdout",
     "output_type": "stream",
     "text": [
      "Done!\n",
      "loss: 0.000001  [    0/  120]\n",
      "lr:  0.005\n",
      "Test Error: \n",
      " Accuracy: 93.3%, Avg loss: 1.104774 \n",
      "\n",
      "Test Error: \n",
      " Accuracy: 93.3%, Avg loss: 1.104774 \n",
      "\n"
     ]
    },
    {
     "name": "stderr",
     "output_type": "stream",
     "text": [
      "100%|██████████| 10000/10000 [02:02<00:00, 81.73it/s]\n"
     ]
    },
    {
     "name": "stdout",
     "output_type": "stream",
     "text": [
      "Done!\n",
      "loss: 0.000000  [    0/  120]\n",
      "lr:  0.005\n",
      "Test Error: \n",
      " Accuracy: 93.3%, Avg loss: 1.094707 \n",
      "\n",
      "Test Error: \n",
      " Accuracy: 93.3%, Avg loss: 1.094707 \n",
      "\n"
     ]
    },
    {
     "name": "stderr",
     "output_type": "stream",
     "text": [
      "100%|██████████| 10000/10000 [04:00<00:00, 41.56it/s]\n"
     ]
    },
    {
     "name": "stdout",
     "output_type": "stream",
     "text": [
      "Done!\n",
      "loss: 0.000000  [    0/  120]\n",
      "lr:  0.005\n",
      "Test Error: \n",
      " Accuracy: 90.0%, Avg loss: 0.898067 \n",
      "\n",
      "Test Error: \n",
      " Accuracy: 90.0%, Avg loss: 0.898067 \n",
      "\n"
     ]
    },
    {
     "name": "stderr",
     "output_type": "stream",
     "text": [
      "100%|██████████| 10000/10000 [07:58<00:00, 20.92it/s]\n"
     ]
    },
    {
     "name": "stdout",
     "output_type": "stream",
     "text": [
      "Done!\n",
      "loss: 0.000000  [    0/  120]\n",
      "lr:  0.005\n",
      "Test Error: \n",
      " Accuracy: 93.3%, Avg loss: 0.452683 \n",
      "\n",
      "Test Error: \n",
      " Accuracy: 93.3%, Avg loss: 0.452683 \n",
      "\n"
     ]
    }
   ],
   "source": [
    "NN_loss = []\n",
    "NN_test_loss = []\n",
    "NN_test_accuracy = []\n",
    "dim = X_scaled[0].shape[0]\n",
    "\n",
    "for max_freq in range(1, 10+1):\n",
    "    W = utils.freq_generator(max_freq, dim).to(device)\n",
    "    model = fm.Fourier_model(W, output_dim=3)\n",
    "    model.to(device)\n",
    "    optimizer = torch.optim.Adam(model.parameters(), lr=5*1e-3)\n",
    "\n",
    "    epochs = 10000\n",
    "    for t in tqdm(range(epochs)):\n",
    "        # print(f\"Epoch {t+1}\\n-------------------------------\")\n",
    "        train(train_dataloader, model, loss_fn, optimizer)\n",
    "        # test(test_dataloader, model, loss_fn)\n",
    "        # scheduler.step()\n",
    "    print(\"Done!\")\n",
    "    NN_loss.append(train(train_dataloader, model, loss_fn, optimizer, printing=True))\n",
    "    NN_test_loss.append(test(test_dataloader, model, loss_fn)[0])\n",
    "    NN_test_accuracy.append(test(test_dataloader, model, loss_fn)[1])"
   ]
  },
  {
   "cell_type": "code",
   "execution_count": 10,
   "metadata": {},
   "outputs": [],
   "source": [
    "save = True\n",
    "save_path = \"../data/IRIS_04/\"\n",
    "if save == True:\n",
    "    np.save(save_path+\"NN_loss.npy\", np.array(NN_loss))\n",
    "    np.save(save_path+\"NN_test_loss.npy\", np.array(NN_test_loss))\n",
    "    np.save(save_path+\"NN_test_accuracy.npy\", np.array(NN_test_accuracy))"
   ]
  },
  {
   "cell_type": "code",
   "execution_count": 12,
   "metadata": {},
   "outputs": [
    {
     "data": {
      "text/plain": [
       "<matplotlib.legend.Legend at 0x7fe3244cf940>"
      ]
     },
     "execution_count": 12,
     "metadata": {},
     "output_type": "execute_result"
    },
    {
     "data": {
      "image/png": "[encoded data removed]",
      "text/plain": [
       "<Figure size 432x288 with 1 Axes>"
      ]
     },
     "metadata": {
      "needs_background": "light"
     },
     "output_type": "display_data"
    }
   ],
   "source": [
    "w = np.arange(1, 10+1, 1)\n",
    "\n",
    "plt.plot(w, NN_loss, label=\"train loss\")\n",
    "plt.plot(w, NN_test_loss, label=\"test_loss\")\n",
    "plt.plot(w, NN_test_accuracy, label=\"test accuracy\")\n",
    "plt.legend()\n",
    "#plt.ylim(0, 100)"
   ]
  },
  {
   "cell_type": "code",
   "execution_count": null,
   "metadata": {},
   "outputs": [],
   "source": []
  }
 ],
 "metadata": {
  "kernelspec": {
   "display_name": "Python 3",
   "language": "python",
   "name": "python3"
  },
  "language_info": {
   "codemirror_mode": {
    "name": "ipython",
    "version": 3
   },
   "file_extension": ".py",
   "mimetype": "text/x-python",
   "name": "python",
   "nbconvert_exporter": "python",
   "pygments_lexer": "ipython3",
   "version": "3.8.5"
  }
 },
 "nbformat": 4,
 "nbformat_minor": 5
}
