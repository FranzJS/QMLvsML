{
 "cells": [
  {
   "cell_type": "code",
   "execution_count": 1,
   "metadata": {},
   "outputs": [
    {
     "name": "stdout",
     "output_type": "stream",
     "text": [
      "Using cpu device\n"
     ]
    }
   ],
   "source": [
    "import pennylane as qml\n",
    "import torch\n",
    "from torch import nn\n",
    "from torch.utils.data import DataLoader\n",
    "from pennylane import numpy as np\n",
    "import matplotlib.pyplot as plt\n",
    "from tqdm import tqdm\n",
    "\n",
    "#device = 'cuda' if torch.cuda.is_available() else 'cpu'\n",
    "device = 'cpu'\n",
    "print(f'Using {device} device')"
   ]
  },
  {
   "cell_type": "code",
   "execution_count": 2,
   "metadata": {},
   "outputs": [],
   "source": [
    "import sys\n",
    "sys.path.insert(0, \"../\")\n",
    "import utils.utils as utils\n",
    "import models.fourier_models as fm\n",
    "import models.quantum_models as qm"
   ]
  },
  {
   "cell_type": "code",
   "execution_count": 3,
   "metadata": {},
   "outputs": [
    {
     "name": "stdout",
     "output_type": "stream",
     "text": [
      "8\n"
     ]
    }
   ],
   "source": [
    "from sklearn.datasets import fetch_california_housing\n",
    "from sklearn.model_selection import train_test_split\n",
    "\n",
    "data = fetch_california_housing()\n",
    "X = torch.from_numpy(data.data)\n",
    "y = torch.from_numpy(data.target)\n",
    "\n",
    "X_scaled = utils.data_scaler(X, interval=(-torch.pi/2, torch.pi/2))\n",
    "\n",
    "# Split the data set into training and testing\n",
    "X_train, X_test, y_train, y_test = train_test_split(\n",
    "    X_scaled, y, test_size=0.2, random_state=42)\n",
    "\n",
    "# torch dataloaders\n",
    "train_data_list = []\n",
    "for i in range(len(X_train)):\n",
    "    data_point = (X_train[i], y_train[i])\n",
    "    train_data_list.append(data_point)\n",
    "\n",
    "test_data_list = []\n",
    "for i in range(len(X_test)):\n",
    "    data_point = (X_test[i], y_test[i])\n",
    "    test_data_list.append(data_point)\n",
    "    \n",
    "train_dataloader = DataLoader(train_data_list, batch_size=200, shuffle=True)\n",
    "test_dataloader = DataLoader(test_data_list, batch_size=200, shuffle=True)\n",
    "print(X_train[0].shape[0])"
   ]
  },
  {
   "cell_type": "code",
   "execution_count": 4,
   "metadata": {},
   "outputs": [],
   "source": [
    "def train(dataloader, model, loss_fn, optimizer, printing=False):\n",
    "    size = len(dataloader.dataset)\n",
    "    model.train()\n",
    "    for batch, (X, y) in enumerate(dataloader):\n",
    "        X, y = X.to(device), y.to(device)\n",
    "\n",
    "        # Compute prediction error\n",
    "        pred = model(X)\n",
    "        loss = loss_fn(pred.flatten(), y)\n",
    "\n",
    "        # Backpropagation\n",
    "        optimizer.zero_grad()\n",
    "        loss.backward()\n",
    "        optimizer.step()\n",
    "\n",
    "        if batch % 100 == 0:\n",
    "            loss, current = loss.item(), batch * len(X)\n",
    "            if printing == True:\n",
    "                print(f\"loss: {loss:>7f}  [{current:>5d}/{size:>5d}]\")\n",
    "                for param_group in optimizer.param_groups:\n",
    "                    print(\"lr: \", param_group['lr'])\n",
    "        return loss\n",
    "\n",
    "def test(dataloader, model, loss_fn):\n",
    "    size = len(dataloader.dataset)\n",
    "    num_batches = len(dataloader)\n",
    "    model.eval()\n",
    "    test_loss, correct = 0, 0\n",
    "    with torch.no_grad():\n",
    "        for X, y in dataloader:\n",
    "            X, y = X.to(device), y.to(device)\n",
    "            pred = model(X)\n",
    "            test_loss += loss_fn(pred.flatten(), y).item()\n",
    "            correct += (pred.argmax(1) == y).type(torch.float).sum().item()\n",
    "    test_loss /= num_batches\n",
    "    correct /= size\n",
    "    print(f\"Test Error: \\n Accuracy: {(100*correct):>0.1f}%, Avg loss: {test_loss:>8f} \\n\")\n",
    "    return test_loss"
   ]
  },
  {
   "cell_type": "code",
   "execution_count": 5,
   "metadata": {},
   "outputs": [],
   "source": [
    "def ctrain(dataloader, model, loss_fn, optimizer, printing=False):\n",
    "    size = len(dataloader.dataset)\n",
    "    model.train()\n",
    "    for batch, (X, y) in enumerate(dataloader):\n",
    "        X, y = X.to(device), y.to(device)\n",
    "        def closure():\n",
    "            optimizer.zero_grad()\n",
    "            output = model(X)\n",
    "            loss = loss_fn(output.flatten(), y)\n",
    "            loss.backward()\n",
    "            return loss\n",
    "        \n",
    "        optimizer.step(closure)\n",
    "\n",
    "        if batch % 100 == 0:\n",
    "            loss = loss_fn(model(X).flatten(), y)\n",
    "            loss, current = loss.item(), batch * len(X)\n",
    "            if printing == True:\n",
    "                print(f\"loss: {loss:>7f}  [{current:>5d}/{size:>5d}]\")\n",
    "                for param_group in optimizer.param_groups:\n",
    "                    print(\"lr: \", param_group['lr'])\n",
    "        return loss"
   ]
  },
  {
   "cell_type": "code",
   "execution_count": 6,
   "metadata": {},
   "outputs": [
    {
     "name": "stdout",
     "output_type": "stream",
     "text": [
      "Test Error: \n",
      " Accuracy: 0.0%, Avg loss: 5.557263 \n",
      "\n",
      "Test Error: \n",
      " Accuracy: 0.0%, Avg loss: 5.466410 \n",
      "\n"
     ]
    },
    {
     "name": "stderr",
     "output_type": "stream",
     "text": [
      "\r",
      "  0%|                                                    | 0/50 [00:00<?, ?it/s]"
     ]
    },
    {
     "name": "stdout",
     "output_type": "stream",
     "text": [
      "loss: 1.345897  [    0/16512]\n",
      "lr:  0.5\n"
     ]
    },
    {
     "name": "stderr",
     "output_type": "stream",
     "text": [
      "\r",
      "  2%|▊                                        | 1/50 [06:39<5:26:22, 399.65s/it]"
     ]
    },
    {
     "name": "stdout",
     "output_type": "stream",
     "text": [
      "Test Error: \n",
      " Accuracy: 0.0%, Avg loss: 1.329692 \n",
      "\n",
      "loss: 1.412335  [    0/16512]\n",
      "lr:  0.5\n"
     ]
    },
    {
     "name": "stderr",
     "output_type": "stream",
     "text": [
      "\r",
      "  4%|█▋                                       | 2/50 [13:16<5:18:11, 397.74s/it]"
     ]
    },
    {
     "name": "stdout",
     "output_type": "stream",
     "text": [
      "Test Error: \n",
      " Accuracy: 0.0%, Avg loss: 1.306065 \n",
      "\n",
      "loss: 1.381290  [    0/16512]\n",
      "lr:  0.5\n"
     ]
    },
    {
     "name": "stderr",
     "output_type": "stream",
     "text": [
      "\r",
      "  6%|██▍                                      | 3/50 [19:41<5:07:09, 392.12s/it]"
     ]
    },
    {
     "name": "stdout",
     "output_type": "stream",
     "text": [
      "Test Error: \n",
      " Accuracy: 0.0%, Avg loss: 1.329016 \n",
      "\n",
      "loss: 1.258531  [    0/16512]\n",
      "lr:  0.5\n"
     ]
    },
    {
     "name": "stderr",
     "output_type": "stream",
     "text": [
      "\r",
      "  8%|███▎                                     | 4/50 [26:10<4:59:47, 391.02s/it]"
     ]
    },
    {
     "name": "stdout",
     "output_type": "stream",
     "text": [
      "Test Error: \n",
      " Accuracy: 0.0%, Avg loss: 1.317064 \n",
      "\n",
      "loss: 1.189252  [    0/16512]\n",
      "lr:  0.5\n"
     ]
    },
    {
     "name": "stderr",
     "output_type": "stream",
     "text": [
      "\r",
      " 10%|████                                     | 5/50 [32:37<4:52:10, 389.56s/it]"
     ]
    },
    {
     "name": "stdout",
     "output_type": "stream",
     "text": [
      "Test Error: \n",
      " Accuracy: 0.0%, Avg loss: 1.308642 \n",
      "\n",
      "loss: 1.451796  [    0/16512]\n",
      "lr:  0.5\n"
     ]
    },
    {
     "name": "stderr",
     "output_type": "stream",
     "text": [
      "\r",
      " 12%|████▉                                    | 6/50 [39:04<4:45:03, 388.72s/it]"
     ]
    },
    {
     "name": "stdout",
     "output_type": "stream",
     "text": [
      "Test Error: \n",
      " Accuracy: 0.0%, Avg loss: 1.328127 \n",
      "\n",
      "loss: 1.302918  [    0/16512]\n",
      "lr:  0.5\n"
     ]
    },
    {
     "name": "stderr",
     "output_type": "stream",
     "text": [
      "\r",
      " 14%|█████▋                                   | 7/50 [45:29<4:37:41, 387.48s/it]"
     ]
    },
    {
     "name": "stdout",
     "output_type": "stream",
     "text": [
      "Test Error: \n",
      " Accuracy: 0.0%, Avg loss: 1.330937 \n",
      "\n",
      "loss: 1.339690  [    0/16512]\n",
      "lr:  0.5\n"
     ]
    },
    {
     "name": "stderr",
     "output_type": "stream",
     "text": [
      "\r",
      " 16%|██████▌                                  | 8/50 [51:54<4:30:43, 386.74s/it]"
     ]
    },
    {
     "name": "stdout",
     "output_type": "stream",
     "text": [
      "Test Error: \n",
      " Accuracy: 0.0%, Avg loss: 1.314230 \n",
      "\n",
      "loss: 1.381237  [    0/16512]\n",
      "lr:  0.5\n"
     ]
    },
    {
     "name": "stderr",
     "output_type": "stream",
     "text": [
      "\r",
      " 18%|███████▍                                 | 9/50 [58:25<4:25:02, 387.87s/it]"
     ]
    },
    {
     "name": "stdout",
     "output_type": "stream",
     "text": [
      "Test Error: \n",
      " Accuracy: 0.0%, Avg loss: 1.328746 \n",
      "\n",
      "loss: 5.194429  [    0/16512]\n",
      "lr:  0.5\n"
     ]
    },
    {
     "name": "stderr",
     "output_type": "stream",
     "text": [
      "\r",
      " 20%|███████▌                              | 10/50 [1:04:55<4:19:08, 388.70s/it]"
     ]
    },
    {
     "name": "stdout",
     "output_type": "stream",
     "text": [
      "Test Error: \n",
      " Accuracy: 0.0%, Avg loss: 4.867278 \n",
      "\n",
      "loss: 1.512590  [    0/16512]\n",
      "lr:  0.5\n"
     ]
    },
    {
     "name": "stderr",
     "output_type": "stream",
     "text": [
      "\r",
      " 22%|████████▎                             | 11/50 [1:11:26<4:12:58, 389.20s/it]"
     ]
    },
    {
     "name": "stdout",
     "output_type": "stream",
     "text": [
      "Test Error: \n",
      " Accuracy: 0.0%, Avg loss: 1.331908 \n",
      "\n",
      "loss: 1.397011  [    0/16512]\n",
      "lr:  0.5\n"
     ]
    },
    {
     "name": "stderr",
     "output_type": "stream",
     "text": [
      "\r",
      " 24%|█████████                             | 12/50 [1:17:52<4:06:00, 388.43s/it]"
     ]
    },
    {
     "name": "stdout",
     "output_type": "stream",
     "text": [
      "Test Error: \n",
      " Accuracy: 0.0%, Avg loss: 1.326957 \n",
      "\n",
      "loss: 1.430187  [    0/16512]\n",
      "lr:  0.5\n"
     ]
    },
    {
     "name": "stderr",
     "output_type": "stream",
     "text": [
      "\r",
      " 26%|█████████▉                            | 13/50 [1:24:19<3:59:14, 387.96s/it]"
     ]
    },
    {
     "name": "stdout",
     "output_type": "stream",
     "text": [
      "Test Error: \n",
      " Accuracy: 0.0%, Avg loss: 1.325461 \n",
      "\n",
      "loss:     nan  [    0/16512]\n",
      "lr:  0.5\n"
     ]
    },
    {
     "name": "stderr",
     "output_type": "stream",
     "text": [
      "\r",
      " 26%|█████████▉                            | 13/50 [1:30:45<4:18:17, 418.86s/it]"
     ]
    },
    {
     "name": "stdout",
     "output_type": "stream",
     "text": [
      "Test Error: \n",
      " Accuracy: 0.0%, Avg loss:      nan \n",
      "\n",
      "Done!\n"
     ]
    },
    {
     "name": "stderr",
     "output_type": "stream",
     "text": [
      "\n"
     ]
    },
    {
     "name": "stdout",
     "output_type": "stream",
     "text": [
      "Test Error: \n",
      " Accuracy: 0.0%, Avg loss: 5.514702 \n",
      "\n",
      "Test Error: \n",
      " Accuracy: 0.0%, Avg loss: 5.410993 \n",
      "\n"
     ]
    },
    {
     "name": "stderr",
     "output_type": "stream",
     "text": [
      "\r",
      "  0%|                                                    | 0/50 [00:00<?, ?it/s]"
     ]
    },
    {
     "name": "stdout",
     "output_type": "stream",
     "text": [
      "loss: 1.287017  [    0/16512]\n",
      "lr:  0.5\n"
     ]
    },
    {
     "name": "stderr",
     "output_type": "stream",
     "text": [
      "\r",
      "  2%|▊                                        | 1/50 [06:28<5:17:02, 388.22s/it]"
     ]
    },
    {
     "name": "stdout",
     "output_type": "stream",
     "text": [
      "Test Error: \n",
      " Accuracy: 0.0%, Avg loss: 1.324191 \n",
      "\n",
      "loss: 1.215561  [    0/16512]\n",
      "lr:  0.5\n"
     ]
    },
    {
     "name": "stderr",
     "output_type": "stream",
     "text": [
      "\r",
      "  4%|█▋                                       | 2/50 [12:55<5:10:12, 387.76s/it]"
     ]
    },
    {
     "name": "stdout",
     "output_type": "stream",
     "text": [
      "Test Error: \n",
      " Accuracy: 0.0%, Avg loss: 1.323423 \n",
      "\n",
      "loss: 1.139779  [    0/16512]\n",
      "lr:  0.5\n"
     ]
    },
    {
     "name": "stderr",
     "output_type": "stream",
     "text": [
      "\r",
      "  6%|██▍                                      | 3/50 [19:22<5:03:33, 387.53s/it]"
     ]
    },
    {
     "name": "stdout",
     "output_type": "stream",
     "text": [
      "Test Error: \n",
      " Accuracy: 0.0%, Avg loss: 1.372605 \n",
      "\n",
      "loss: 1.355899  [    0/16512]\n",
      "lr:  0.5\n"
     ]
    },
    {
     "name": "stderr",
     "output_type": "stream",
     "text": [
      "\r",
      "  8%|███▎                                     | 4/50 [25:48<4:56:29, 386.73s/it]"
     ]
    },
    {
     "name": "stdout",
     "output_type": "stream",
     "text": [
      "Test Error: \n",
      " Accuracy: 0.0%, Avg loss: 1.331176 \n",
      "\n",
      "loss: 1.394191  [    0/16512]\n",
      "lr:  0.5\n"
     ]
    },
    {
     "name": "stderr",
     "output_type": "stream",
     "text": [
      "\r",
      " 10%|████                                     | 5/50 [32:12<4:49:26, 385.91s/it]"
     ]
    },
    {
     "name": "stdout",
     "output_type": "stream",
     "text": [
      "Test Error: \n",
      " Accuracy: 0.0%, Avg loss: 1.316687 \n",
      "\n",
      "loss: 1.291269  [    0/16512]\n",
      "lr:  0.5\n"
     ]
    },
    {
     "name": "stderr",
     "output_type": "stream",
     "text": [
      "\r",
      " 12%|████▉                                    | 6/50 [38:42<4:43:58, 387.23s/it]"
     ]
    },
    {
     "name": "stdout",
     "output_type": "stream",
     "text": [
      "Test Error: \n",
      " Accuracy: 0.0%, Avg loss: 1.321333 \n",
      "\n",
      "loss: 1.405783  [    0/16512]\n",
      "lr:  0.5\n"
     ]
    },
    {
     "name": "stderr",
     "output_type": "stream",
     "text": [
      "\r",
      " 14%|█████▋                                   | 7/50 [45:12<4:38:04, 388.02s/it]"
     ]
    },
    {
     "name": "stdout",
     "output_type": "stream",
     "text": [
      "Test Error: \n",
      " Accuracy: 0.0%, Avg loss: 1.330233 \n",
      "\n",
      "loss: 1.164291  [    0/16512]\n",
      "lr:  0.5\n"
     ]
    },
    {
     "name": "stderr",
     "output_type": "stream",
     "text": [
      "\r",
      " 16%|██████▌                                  | 8/50 [51:36<4:30:49, 386.90s/it]"
     ]
    },
    {
     "name": "stdout",
     "output_type": "stream",
     "text": [
      "Test Error: \n",
      " Accuracy: 0.0%, Avg loss: 1.318018 \n",
      "\n",
      "loss: 1.510093  [    0/16512]\n",
      "lr:  0.5\n"
     ]
    },
    {
     "name": "stderr",
     "output_type": "stream",
     "text": [
      "\r",
      " 18%|███████▍                                 | 9/50 [58:02<4:24:01, 386.39s/it]"
     ]
    },
    {
     "name": "stdout",
     "output_type": "stream",
     "text": [
      "Test Error: \n",
      " Accuracy: 0.0%, Avg loss: 1.317813 \n",
      "\n",
      "loss: 1.138041  [    0/16512]\n",
      "lr:  0.5\n"
     ]
    },
    {
     "name": "stderr",
     "output_type": "stream",
     "text": [
      "\r",
      " 20%|███████▌                              | 10/50 [1:04:32<4:18:22, 387.56s/it]"
     ]
    },
    {
     "name": "stdout",
     "output_type": "stream",
     "text": [
      "Test Error: \n",
      " Accuracy: 0.0%, Avg loss: 1.319342 \n",
      "\n",
      "loss: 1.116780  [    0/16512]\n",
      "lr:  0.5\n"
     ]
    },
    {
     "name": "stderr",
     "output_type": "stream",
     "text": [
      "\r",
      " 22%|████████▎                             | 11/50 [1:11:02<4:12:30, 388.47s/it]"
     ]
    },
    {
     "name": "stdout",
     "output_type": "stream",
     "text": [
      "Test Error: \n",
      " Accuracy: 0.0%, Avg loss: 1.323855 \n",
      "\n",
      "loss: 1.242101  [    0/16512]\n",
      "lr:  0.5\n"
     ]
    },
    {
     "name": "stderr",
     "output_type": "stream",
     "text": [
      "\r",
      " 24%|█████████                             | 12/50 [1:17:28<4:05:27, 387.57s/it]"
     ]
    },
    {
     "name": "stdout",
     "output_type": "stream",
     "text": [
      "Test Error: \n",
      " Accuracy: 0.0%, Avg loss: 1.312951 \n",
      "\n",
      "loss:     nan  [    0/16512]\n",
      "lr:  0.5\n"
     ]
    },
    {
     "name": "stderr",
     "output_type": "stream",
     "text": [
      "\r",
      " 24%|█████████                             | 12/50 [1:23:51<4:25:34, 419.32s/it]"
     ]
    },
    {
     "name": "stdout",
     "output_type": "stream",
     "text": [
      "Test Error: \n",
      " Accuracy: 0.0%, Avg loss:      nan \n",
      "\n",
      "Done!\n"
     ]
    },
    {
     "name": "stderr",
     "output_type": "stream",
     "text": [
      "\n"
     ]
    },
    {
     "name": "stdout",
     "output_type": "stream",
     "text": [
      "Test Error: \n",
      " Accuracy: 0.0%, Avg loss: 5.635199 \n",
      "\n",
      "Test Error: \n",
      " Accuracy: 0.0%, Avg loss: 5.541669 \n",
      "\n"
     ]
    },
    {
     "name": "stderr",
     "output_type": "stream",
     "text": [
      "\r",
      "  0%|                                                    | 0/50 [00:00<?, ?it/s]"
     ]
    },
    {
     "name": "stdout",
     "output_type": "stream",
     "text": [
      "loss: 1.221252  [    0/16512]\n",
      "lr:  0.5\n"
     ]
    },
    {
     "name": "stderr",
     "output_type": "stream",
     "text": [
      "\r",
      "  2%|▊                                        | 1/50 [06:25<5:15:13, 385.99s/it]"
     ]
    },
    {
     "name": "stdout",
     "output_type": "stream",
     "text": [
      "Test Error: \n",
      " Accuracy: 0.0%, Avg loss: 1.321380 \n",
      "\n",
      "loss: 1.213442  [    0/16512]\n",
      "lr:  0.5\n"
     ]
    },
    {
     "name": "stderr",
     "output_type": "stream",
     "text": [
      "\r",
      "  4%|█▋                                       | 2/50 [12:54<5:09:45, 387.21s/it]"
     ]
    },
    {
     "name": "stdout",
     "output_type": "stream",
     "text": [
      "Test Error: \n",
      " Accuracy: 0.0%, Avg loss: 1.314639 \n",
      "\n",
      "loss: 25651.834182  [    0/16512]\n",
      "lr:  0.5\n"
     ]
    },
    {
     "name": "stderr",
     "output_type": "stream",
     "text": [
      "\r",
      "  6%|██▍                                      | 3/50 [19:19<5:02:32, 386.22s/it]"
     ]
    },
    {
     "name": "stdout",
     "output_type": "stream",
     "text": [
      "Test Error: \n",
      " Accuracy: 0.0%, Avg loss: 23817.860770 \n",
      "\n",
      "loss:     nan  [    0/16512]\n",
      "lr:  0.5\n"
     ]
    },
    {
     "name": "stderr",
     "output_type": "stream",
     "text": [
      "\r",
      "  6%|██▍                                      | 3/50 [25:39<6:42:00, 513.21s/it]"
     ]
    },
    {
     "name": "stdout",
     "output_type": "stream",
     "text": [
      "Test Error: \n",
      " Accuracy: 0.0%, Avg loss:      nan \n",
      "\n",
      "Done!\n"
     ]
    },
    {
     "name": "stderr",
     "output_type": "stream",
     "text": [
      "\n"
     ]
    }
   ],
   "source": [
    "for i in range(3):\n",
    "    n_qubits = X_train[0].shape[0]\n",
    "    NN_loss = []\n",
    "    NN_test_loss = []\n",
    "\n",
    "    save_path = \"../data/pennylane_regression_minima_search_california_01/run_{}.1_\".format(i)\n",
    "    #load_path = \"../data/pennylane_regression_minima_search_06/run_{}_\".format(i)\n",
    "    #NN_loss = np.load(load_path+\"NN_loss.npy\")\n",
    "    #best_model_idx = np.argmin(NN_loss) - np.argmin(NN_loss) % 10\n",
    "\n",
    "    model = qm.QuantumRegressionModel(n_qubits, n_layers=3, n_trainable_block_layers=1)\n",
    "    #model.load_state_dict(torch.load(load_path+\"model_epoch_{}.pt\".format(best_model_idx)))\n",
    "    #model.load_state_dict(torch.load(load_path+\"initial_model.pt\"))\n",
    "    model.to(device)\n",
    "    #print(list(model.parameters()))\n",
    "    loss_fn = nn.MSELoss(reduction='mean') # equiv. to torch.linalg.norm(input-target)**2\n",
    "    optimizer = torch.optim.LBFGS(model.parameters(), lr=0.5)\n",
    "    \n",
    "    torch.save(model.state_dict(), save_path+\"initial_model.pt\")\n",
    "    \n",
    "    NN_loss.append(test(train_dataloader, model, loss_fn))\n",
    "    NN_test_loss.append(test(test_dataloader, model, loss_fn)) \n",
    "    \n",
    "    epochs = 50\n",
    "    for t in tqdm(range(epochs)):\n",
    "        # print(f\"Epoch {t+1}\\n-------------------------------\")\n",
    "        NN_loss.append(ctrain(train_dataloader, model, loss_fn, optimizer, printing=True))\n",
    "        NN_test_loss.append(test(test_dataloader, model, loss_fn))    \n",
    "        if t % 10 == 0:\n",
    "            #pass\n",
    "            torch.save(model.state_dict(), save_path+\"model_epoch_{}.pt\".format(t))\n",
    "        if np.isnan(NN_loss[-1]) == True:\n",
    "            break\n",
    "            \n",
    "    np.save(save_path+\"NN_loss.npy\", np.array(NN_loss))\n",
    "    np.save(save_path+\"NN_test_loss.npy\", np.array(NN_test_loss))\n",
    "    print(\"Done!\")"
   ]
  },
  {
   "cell_type": "code",
   "execution_count": null,
   "metadata": {},
   "outputs": [],
   "source": [
    "# generate frequencies\n",
    "max_freq = 1\n",
    "dim = X_scaled[0].shape[0]\n",
    "\n",
    "W = utils.freq_generator(max_freq, dim)\n",
    "\n",
    "# compute best approximation\n",
    "ba_coeffs = utils.fourier_best_approx(W, X_train, y_train)\n",
    "\n",
    "print(\"training_loss: \",utils.loss(W, ba_coeffs, X_train, y_train))\n",
    "print(\"test loss: \",utils.loss(W, ba_coeffs, X_test, y_test))"
   ]
  },
  {
   "cell_type": "code",
   "execution_count": null,
   "metadata": {
    "lines_to_next_cell": 2
   },
   "outputs": [],
   "source": [
    "save = False\n",
    "if save == True:\n",
    "    np.save(save_path+\"NN_loss.npy\", np.array(NN_loss))\n",
    "    np.save(save_path+\"NN_test_loss.npy\", np.array(NN_test_loss))\n",
    "    #torch.save(model.state_dict(), save_path+\"model.pt\")"
   ]
  },
  {
   "cell_type": "code",
   "execution_count": null,
   "metadata": {},
   "outputs": [],
   "source": [
    "epochs = np.arange(1, len(NN_loss)+1, 1)"
   ]
  },
  {
   "cell_type": "code",
   "execution_count": null,
   "metadata": {},
   "outputs": [],
   "source": [
    "plt.plot(epochs, NN_loss, label='train')\n",
    "plt.plot(epochs, NN_test_loss, label='test')\n",
    "plt.legend()"
   ]
  },
  {
   "cell_type": "code",
   "execution_count": null,
   "metadata": {},
   "outputs": [],
   "source": []
  }
 ],
 "metadata": {
  "jupytext": {
   "formats": "ipynb,py:light"
  },
  "kernelspec": {
   "display_name": "Python 3 (ipykernel)",
   "language": "python",
   "name": "python3"
  },
  "language_info": {
   "codemirror_mode": {
    "name": "ipython",
    "version": 3
   },
   "file_extension": ".py",
   "mimetype": "text/x-python",
   "name": "python",
   "nbconvert_exporter": "python",
   "pygments_lexer": "ipython3",
   "version": "3.8.12"
  }
 },
 "nbformat": 4,
 "nbformat_minor": 4
}
